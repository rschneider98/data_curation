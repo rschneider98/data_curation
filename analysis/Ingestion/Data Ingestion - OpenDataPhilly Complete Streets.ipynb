{
 "cells": [
  {
   "cell_type": "markdown",
   "id": "1e3da9b5-871c-45b3-8d6c-1d69133206a6",
   "metadata": {},
   "source": [
    "# Data Ingestion of OpenDataPhilly Complete Street Centerlines\n",
    "\n",
    "Add raw data to project and manually create metadata for the upstream source.\n",
    "\n",
    "Each dataset gets its own research object to track them individually without creating a very large, interconnected research object for the whole project."
   ]
  },
  {
   "cell_type": "markdown",
   "id": "9412c1ff-3977-4b41-96b6-2a798abaa28a",
   "metadata": {},
   "source": [
    "## Dataset Descriptions\n",
    "\n",
    "Use attributes and entities as needed\n",
    "\n",
    "- Attributes\n",
    "    - name\n",
    "    - publisher {\"@id\": \"#local_id\"} or {\"@id\": \"url\"}\n",
    "    - creater {\"@id\": \"#person\"}\n",
    "    - license\n",
    "    - datePublished\n",
    "    - keywords (ex. \"streets, aggregated features, map\")\n",
    "    - mainEntity Output Dataset \n",
    "- Data Entities\n",
    "    - File\n",
    "        - source (File(s))\n",
    "        - description\n",
    "        - contentSize (MB, KB, or B)\n",
    "        - encodingFormat (from PRONOM: https://www.nationalarchives.gov.uk/PRONOM)\n",
    "        - sha256\n",
    "    - Dataset\n",
    "        - source (File(s))\n",
    "        - description\n",
    "        - contentSize (MB, KB, or B)\n",
    "        - encodingFormat (from PRONOM: https://www.nationalarchives.gov.uk/PRONOM)\n",
    "    - ComputationalWorkflow\n",
    "        - @type (pre-defined with built-in models) [\"File\", \"SoftwareSourceCode\", \"ComputationalWorkflow\"]\n",
    "        - source (File)\n",
    "        - author\n",
    "        - programmingLanguage\n",
    "        - input [{\"@id\": \"#id1\"}, {\"@id\": \"#id2\"}]\n",
    "        - output [{\"@id\": \"#id3\"}]\n",
    "- Contextual Entities\n",
    "    - Publisher\n",
    "        - @type Organization\n",
    "        - name\n",
    "        - url\n",
    "    - Person\n",
    "        - name\n",
    "    - programmingLanguage\n",
    "        - @type [\"ComputerLanguage\", \"SoftwareApplication\"]\n",
    "        - name\n",
    "        - version\n",
    "        - url\n",
    "    - encodingFormat\n",
    "        - @id PRONOM url\n",
    "        - @type Website\n",
    "        - name\n",
    "    - input\n",
    "        - @type FormalParameter\n",
    "        - name\n",
    "        - defaultValue {\"@id\": \"#ReferenceToUpstreamDataset\"}\n",
    "        - encodingFormat\n",
    "        - valueRequired True\n",
    "    - output\n",
    "        - @type FormalParameter\n",
    "        - name\n",
    "        - defaultValue {\"@id\": \"#ReferenceToDownstreamDataset\"}\n",
    "        - encodingFormat\n",
    "        - valueRequired True"
   ]
  },
  {
   "cell_type": "code",
   "execution_count": 1,
   "id": "8c477b80-bebb-4cbf-b1c0-16c00c806d8d",
   "metadata": {},
   "outputs": [],
   "source": [
    "from datetime import date\n",
    "from rocrate.rocrate import ROCrate\n",
    "from rocrate.model import (\n",
    "    Person,\n",
    "    File,\n",
    "    Dataset,\n",
    "    ComputationalWorkflow,\n",
    "    ContextEntity,\n",
    ")"
   ]
  },
  {
   "cell_type": "code",
   "execution_count": 2,
   "id": "5ba2b4ef-734d-450c-9f3b-ea8213aec987",
   "metadata": {},
   "outputs": [],
   "source": [
    "crate = ROCrate()"
   ]
  },
  {
   "cell_type": "markdown",
   "id": "5c027e34-6fcb-4173-971e-156edd5ca2df",
   "metadata": {},
   "source": [
    "### Main Attributes\n",
    "\n",
    "- name\n",
    "- publisher {\"@id\": \"#local_id\"} or {\"@id\": \"url\"}\n",
    "- creater {\"@id\": \"#person\"}\n",
    "- license\n",
    "- datePublished\n",
    "- keywords (ex. \"streets, aggregated features, map\")\n",
    "- mainEntity Output Dataset\n",
    "\n",
    "Contextual\n",
    "\n",
    "- Publisher\n",
    "    - @type Organization\n",
    "    - name\n",
    "    - url"
   ]
  },
  {
   "cell_type": "code",
   "execution_count": 3,
   "id": "26b0adb0-6e42-4953-905d-962fb93119b5",
   "metadata": {},
   "outputs": [],
   "source": [
    "name = \"Philadelphia Street Centerlines\"\n",
    "short_name = \"OpenDataPhillyStreets\""
   ]
  },
  {
   "cell_type": "code",
   "execution_count": 4,
   "id": "2862295f-c220-4978-bd1c-f5865a9e9f21",
   "metadata": {},
   "outputs": [],
   "source": [
    "dept_planning = crate.add(\n",
    "    ContextEntity(\n",
    "        crate,\n",
    "        \"Department of Planning and Development\",\n",
    "        properties={\n",
    "            \"@type\": \"Organization\",\n",
    "            \"name\": \"Philadelphia, Pennsylvania Department of Planning and Development\",\n",
    "            \"url\": \"https://www.phila.gov/departments/department-of-planning-and-development/\"\n",
    "        },\n",
    "    )\n",
    ")"
   ]
  },
  {
   "cell_type": "code",
   "execution_count": 5,
   "id": "b4d46c34-0a33-4cac-a550-5754389c1ad4",
   "metadata": {},
   "outputs": [],
   "source": [
    "philly_license = crate.add(\n",
    "    ContextEntity(\n",
    "        crate,\n",
    "        \"Philadelphia Data Terms Of Use\",\n",
    "        properties={\n",
    "            \"@type\": \"License\",\n",
    "            \"name\": \"Philadelphia Data Terms Of Use\",\n",
    "            \"url\": \"https://www.phila.gov/terms-of-use/\",\n",
    "        },\n",
    "    )\n",
    ")"
   ]
  },
  {
   "cell_type": "code",
   "execution_count": 6,
   "id": "673541cc-86e6-420a-bf40-89949f7391e6",
   "metadata": {},
   "outputs": [],
   "source": [
    "date_published = date(2017, 3, 1).isoformat()"
   ]
  },
  {
   "cell_type": "code",
   "execution_count": 7,
   "id": "54e754c3-1f98-4a0e-8553-87b85fa29e2d",
   "metadata": {},
   "outputs": [],
   "source": [
    "crate.name = name\n",
    "crate.publisher = dept_planning\n",
    "crate.creator = dept_planning\n",
    "crate.license = philly_license\n",
    "crate.datePublished = date_published\n",
    "crate.keywords = [\"OpenDataPhilly\", \"Philadelphia City Planning Commission\", \"Streets\", \"Geometry\", \"Ingested Data\", \"Raw\"]"
   ]
  },
  {
   "cell_type": "markdown",
   "id": "b6e88c9f-7130-424f-9429-0abbaa22d84b",
   "metadata": {},
   "source": [
    "### Dataset\n",
    "\n",
    "- source (File(s))\n",
    "- description\n",
    "- contentSize (MB, KB, or B)\n",
    "- encodingFormat (from PRONOM: https://www.nationalarchives.gov.uk/PRONOM)\n",
    "\n",
    "Contextual \n",
    "\n",
    "- encodingFormat\n",
    "    - @id PRONOM url\n",
    "    - @type Website\n",
    "    - name"
   ]
  },
  {
   "cell_type": "code",
   "execution_count": 8,
   "id": "67ffccbb-0e13-47de-84ba-70b74d4195cb",
   "metadata": {},
   "outputs": [],
   "source": [
    "encoding_format = crate.add(\n",
    "    ContextEntity(\n",
    "        crate,\n",
    "        \"https://www.nationalarchives.gov.uk/PRONOM/fmt/1367\",\n",
    "        properties={\n",
    "            \"@type\": \"Website\",\n",
    "            \"name\": \"application/geo+json\",\n",
    "        },\n",
    "    )\n",
    ")"
   ]
  },
  {
   "cell_type": "code",
   "execution_count": 9,
   "id": "45de75cd-a0b5-47ec-ae12-59517d47f769",
   "metadata": {},
   "outputs": [],
   "source": [
    "# Dataset\n",
    "raw_file = crate.add (\n",
    "    File(\n",
    "        crate,\n",
    "        source=f\"file:///data/extract/{short_name}/OpenDataPhillyCompleteStreets.geojson\",\n",
    "        properties={\n",
    "            \"contentSize\": \"34.59MB\",\n",
    "            \"encodingFormat\": [encoding_format.properties()[\"name\"], {\"@id\": encoding_format.id}],\n",
    "            \"sameAs\": \"https://opendata.arcgis.com/datasets/ed90e9016aab4c429cb7dd8aef2a87a3_0.geojson\",\n",
    "        }\n",
    "    )\n",
    ")\n",
    "\n",
    "raw_dataset = crate.add(\n",
    "    Dataset(\n",
    "        crate,\n",
    "        source=f\"file:///data/extract/{short_name}\",\n",
    "        properties={\n",
    "            \"description\": \"Complete Centerline Geometries and Descriptions of Streets in Philadelphia\",\n",
    "            \"sameAs\": \"https://metadata.phila.gov/#home/datasetdetails/5543867320583086178c4f34/\",\n",
    "            \"hasParts\": [\n",
    "                {\"@id\": raw_file.id},\n",
    "            ]\n",
    "        }\n",
    "    )\n",
    ")"
   ]
  },
  {
   "cell_type": "code",
   "execution_count": 10,
   "id": "0ebc2ce0-1641-4a92-a241-b33a9e17e166",
   "metadata": {},
   "outputs": [],
   "source": [
    "# Main Entry\n",
    "crate.mainEntity = raw_dataset"
   ]
  },
  {
   "cell_type": "code",
   "execution_count": 11,
   "id": "72022f67-12b0-4427-852d-21569819a8bd",
   "metadata": {},
   "outputs": [
    {
     "data": {
      "text/plain": [
       "'file:///data/extract/OpenDataPhillyStreets'"
      ]
     },
     "execution_count": 11,
     "metadata": {},
     "output_type": "execute_result"
    }
   ],
   "source": [
    "crate.mainEntity.source"
   ]
  },
  {
   "cell_type": "markdown",
   "id": "e15f5849-1494-4dbd-af48-abee33c7104a",
   "metadata": {},
   "source": [
    "### Store Research Object"
   ]
  },
  {
   "cell_type": "code",
   "execution_count": 12,
   "id": "74800a79-1e8f-4ce6-ba04-a159e98123e8",
   "metadata": {},
   "outputs": [],
   "source": [
    "crate.write(f\"../../metastore/{short_name}/\")"
   ]
  },
  {
   "cell_type": "markdown",
   "id": "523e2436-7190-4900-a6ba-b491f3a500fa",
   "metadata": {},
   "source": [
    "## Confirm Usage of Crate"
   ]
  },
  {
   "cell_type": "code",
   "execution_count": 13,
   "id": "4e3692d3-af3e-4612-807e-805e51d68db0",
   "metadata": {},
   "outputs": [],
   "source": [
    "read_crate = ROCrate(f\"../metastore/{short_name}/\")"
   ]
  },
  {
   "cell_type": "code",
   "execution_count": 14,
   "id": "940a3809-1a3a-477a-8e32-9716ea2d9a24",
   "metadata": {},
   "outputs": [
    {
     "name": "stdout",
     "output_type": "stream",
     "text": [
      "./ Dataset\n",
      "ro-crate-metadata.json CreativeWork\n",
      "file:///data/extract/OpenDataPhillyStreets/OpenDataPhillyCompleteStreets.geojson File\n",
      "file:///data/extract/OpenDataPhillyStreets/ Dataset\n",
      "#Department of Planning and Development Organization\n",
      "#Philadelphia Data Terms Of Use License\n",
      "https://www.nationalarchives.gov.uk/PRONOM/fmt/1367 Website\n"
     ]
    }
   ],
   "source": [
    "for e in read_crate.get_entities():\n",
    "    print(e.id, e.type)"
   ]
  },
  {
   "cell_type": "code",
   "execution_count": 15,
   "id": "4e59b0f4-32dd-4da7-8870-0ee4d53e37fc",
   "metadata": {},
   "outputs": [
    {
     "data": {
      "text/plain": [
       "'file:///data/extract/OpenDataPhillyStreets/'"
      ]
     },
     "execution_count": 15,
     "metadata": {},
     "output_type": "execute_result"
    }
   ],
   "source": [
    "main_id = read_crate.mainEntity.id\n",
    "main_id"
   ]
  },
  {
   "cell_type": "code",
   "execution_count": 16,
   "id": "bc327197-68f3-4903-88ac-089f4c2a4206",
   "metadata": {},
   "outputs": [
    {
     "data": {
      "text/plain": [
       "'file:///data/extract/OpenDataPhillyStreets/OpenDataPhillyCompleteStreets.geojson'"
      ]
     },
     "execution_count": 16,
     "metadata": {},
     "output_type": "execute_result"
    }
   ],
   "source": [
    "file_id = read_crate.get(main_id).properties().get(\"hasParts\")[0][\"@id\"]\n",
    "file_id"
   ]
  },
  {
   "cell_type": "code",
   "execution_count": 17,
   "id": "c07ff945-c69d-4f58-9b07-f2c0fd82c670",
   "metadata": {},
   "outputs": [
    {
     "data": {
      "text/plain": [
       "'file:///data/extract/OpenDataPhillyStreets/OpenDataPhillyCompleteStreets.geojson'"
      ]
     },
     "execution_count": 17,
     "metadata": {},
     "output_type": "execute_result"
    }
   ],
   "source": [
    "read_crate.get(file_id).source"
   ]
  },
  {
   "cell_type": "code",
   "execution_count": null,
   "id": "a7e79acd-f657-44f8-9125-3c98d4a7aab0",
   "metadata": {},
   "outputs": [],
   "source": []
  }
 ],
 "metadata": {
  "kernelspec": {
   "display_name": "Python 3 (ipykernel)",
   "language": "python",
   "name": "python3"
  },
  "language_info": {
   "codemirror_mode": {
    "name": "ipython",
    "version": 3
   },
   "file_extension": ".py",
   "mimetype": "text/x-python",
   "name": "python",
   "nbconvert_exporter": "python",
   "pygments_lexer": "ipython3",
   "version": "3.12.2"
  }
 },
 "nbformat": 4,
 "nbformat_minor": 5
}
