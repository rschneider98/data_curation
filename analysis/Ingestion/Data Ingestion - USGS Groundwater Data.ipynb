{
 "cells": [
  {
   "cell_type": "markdown",
   "id": "1e3da9b5-871c-45b3-8d6c-1d69133206a6",
   "metadata": {},
   "source": [
    "# Data Ingestion of USGS Groundwater Data\n",
    "\n",
    "Add raw data to project and manually create metadata for the upstream source.\n",
    "\n",
    "Each dataset gets its own research object to track them individually without creating a very large, interconnected research object for the whole project."
   ]
  },
  {
   "cell_type": "markdown",
   "id": "9412c1ff-3977-4b41-96b6-2a798abaa28a",
   "metadata": {},
   "source": [
    "## Dataset Descriptions\n",
    "\n",
    "Use attributes and entities as needed\n",
    "\n",
    "- Attributes\n",
    "    - name\n",
    "    - publisher {\"@id\": \"#local_id\"} or {\"@id\": \"url\"}\n",
    "    - creater {\"@id\": \"#person\"}\n",
    "    - license\n",
    "    - datePublished\n",
    "    - keywords (ex. \"streets, aggregated features, map\")\n",
    "    - mainEntity Output Dataset \n",
    "- Data Entities\n",
    "    - File\n",
    "        - source (File(s))\n",
    "        - description\n",
    "        - contentSize (MB, KB, or B)\n",
    "        - encodingFormat (from PRONOM: https://www.nationalarchives.gov.uk/PRONOM)\n",
    "        - sha256\n",
    "    - Dataset\n",
    "        - source (File(s))\n",
    "        - description\n",
    "        - contentSize (MB, KB, or B)\n",
    "        - encodingFormat (from PRONOM: https://www.nationalarchives.gov.uk/PRONOM)\n",
    "    - ComputationalWorkflow\n",
    "        - @type (pre-defined with built-in models) [\"File\", \"SoftwareSourceCode\", \"ComputationalWorkflow\"]\n",
    "        - source (File)\n",
    "        - author\n",
    "        - programmingLanguage\n",
    "        - input [{\"@id\": \"#id1\"}, {\"@id\": \"#id2\"}]\n",
    "        - output [{\"@id\": \"#id3\"}]\n",
    "- Contextual Entities\n",
    "    - Publisher\n",
    "        - @type Organization\n",
    "        - name\n",
    "        - url\n",
    "    - Person\n",
    "        - name\n",
    "    - programmingLanguage\n",
    "        - @type [\"ComputerLanguage\", \"SoftwareApplication\"]\n",
    "        - name\n",
    "        - version\n",
    "        - url\n",
    "    - encodingFormat\n",
    "        - @id PRONOM url\n",
    "        - @type Website\n",
    "        - name\n",
    "    - input\n",
    "        - @type FormalParameter\n",
    "        - name\n",
    "        - defaultValue {\"@id\": \"#ReferenceToUpstreamDataset\"}\n",
    "        - encodingFormat\n",
    "        - valueRequired True\n",
    "    - output\n",
    "        - @type FormalParameter\n",
    "        - name\n",
    "        - defaultValue {\"@id\": \"#ReferenceToDownstreamDataset\"}\n",
    "        - encodingFormat\n",
    "        - valueRequired True"
   ]
  },
  {
   "cell_type": "code",
   "execution_count": 1,
   "id": "a78096e8-157b-4af2-95fb-7ef6b95b4470",
   "metadata": {},
   "outputs": [],
   "source": [
    "import os\n",
    "import requests\n",
    "import pandas as pd\n",
    "from io import BytesIO"
   ]
  },
  {
   "cell_type": "markdown",
   "id": "cd216874-97fe-4bd1-9646-60b853cef836",
   "metadata": {},
   "source": [
    "# Get Data"
   ]
  },
  {
   "cell_type": "code",
   "execution_count": 2,
   "id": "203a2442-e7e0-4f41-8933-e61bb39f269f",
   "metadata": {},
   "outputs": [],
   "source": [
    "# Groundwater Sites in Philadelphia County to Pull Data for\n",
    "# 23 sites total\n",
    "list_of_site_numbers = [\n",
    "    \"400132075031001\",\n",
    "    \"400001075040301\",\n",
    "    \"400217075142101\",\n",
    "    \"395611075091301\",\n",
    "    \"395353075151501\",\n",
    "    \"395416075150301\",\n",
    "    \"395459075140501\",\n",
    "    \"395705075135901\",\n",
    "    \"400211075093701\",\n",
    "    \"400327075152201\",\n",
    "    \"400424075104901\",\n",
    "    \"400512075033401\",\n",
    "    \"400311075101301\",\n",
    "    \"400055075122501\",\n",
    "    \"400038075094601\",\n",
    "    \"400016075102801\",\n",
    "    \"395849075134201\",\n",
    "    \"395656075104401\",\n",
    "    \"395408075104001\",\n",
    "    \"395341075102101\",\n",
    "    \"400644074590801\",\n",
    "    \"400308074592201\",\n",
    "    \"400516075033201\",\n",
    "]"
   ]
  },
  {
   "cell_type": "code",
   "execution_count": 3,
   "id": "0b70dd8d-9a6a-4631-8393-b4133a68bcb6",
   "metadata": {},
   "outputs": [
    {
     "name": "stdout",
     "output_type": "stream",
     "text": [
      "23 True\n"
     ]
    }
   ],
   "source": [
    "print(\n",
    "    len(list_of_site_numbers),\n",
    "    len(list_of_site_numbers) == len(set(list_of_site_numbers))\n",
    ")"
   ]
  },
  {
   "cell_type": "code",
   "execution_count": 4,
   "id": "82086e36-e9a0-497d-9e4d-9214f08d363d",
   "metadata": {},
   "outputs": [],
   "source": [
    "resp = requests.get(\"https://waterservices.usgs.gov/nwis/site/?format=rdb&sites=401029075161601&siteOutput=expanded&siteStatus=all\")"
   ]
  },
  {
   "cell_type": "code",
   "execution_count": 5,
   "id": "037e3874-2d2c-4fcc-9709-1473623b0466",
   "metadata": {},
   "outputs": [
    {
     "data": {
      "text/plain": [
       "200"
      ]
     },
     "execution_count": 5,
     "metadata": {},
     "output_type": "execute_result"
    }
   ],
   "source": [
    "resp.status_code"
   ]
  },
  {
   "cell_type": "code",
   "execution_count": 6,
   "id": "1d8bdc91-3126-4966-b4a2-5418cb8df23e",
   "metadata": {},
   "outputs": [
    {
     "data": {
      "text/plain": [
       "'#\\n#\\n# US Geological Survey\\n# retrieved: 2024-04-22 19:00:47 -04:00\\t(caas01)\\n#\\n# The Site File stores location and general information about groundwater,\\n# surface water, and meteorological sites\\n# for sites in USA.\\n#\\n# File-format description:  http://help.waterdata.usgs.gov/faq/about-tab-delimited-output\\n# Automated-retrieval info: http://waterservices.usgs.gov/rest/Site-Service.html\\n#\\n# Contact:   gs-w_support_nwisweb@usgs.gov\\n#\\n# The following selected fields are included in this output:\\n#\\n#  agency_cd       -- Agency\\n#  site_no         -- Site identification number\\n#  station_nm      -- Site name\\n#  site_tp_cd      -- Site type\\n#  lat_va          -- DMS latitude\\n#  long_va         -- DMS longitude\\n#  dec_lat_va      -- Decimal latitude\\n#  dec_long_va     -- Decimal longitude\\n#  coord_meth_cd   -- Latitude-longitude method\\n#  coord_acy_cd    -- Latitude-longitude accuracy\\n#  coord_datum_cd  -- Latitude-longitude datum\\n#  dec_coord_datum_cd -- Decimal Latitude-longitude datum\\n#  district_cd     -- District code\\n#  state_cd        -- State code\\n#  county_cd       -- County code\\n#  country_cd      -- Country code\\n#  land_net_ds     -- Land net location description\\n#  map_nm          -- Name of location map\\n#  map_scale_fc    -- Scale of location map\\n#  alt_va          -- Altitude of Gage/land surface\\n#  alt_meth_cd     -- Method altitude determined\\n#  alt_acy_va      -- Altitude accuracy\\n#  alt_datum_cd    -- Altitude datum\\n#  huc_cd          -- Hydrologic unit code\\n#  basin_cd        -- Drainage basin code\\n#  topo_cd         -- Topographic setting code\\n#  instruments_cd  -- Flags for instruments at site\\n#  construction_dt -- Date of first construction\\n#  inventory_dt    -- Date site established or inventoried\\n#  drain_area_va   -- Drainage area\\n#  contrib_drain_area_va -- Contributing drainage area\\n#  tz_cd           -- Time Zone abbreviation\\n#  local_time_fg   -- Site honors Daylight Savings Time\\n#  reliability_cd  -- Data reliability code\\n#  gw_file_cd      -- Data-other GW files\\n#  nat_aqfr_cd     -- National aquifer code\\n#  aqfr_cd         -- Local aquifer code\\n#  aqfr_type_cd    -- Local aquifer type code\\n#  well_depth_va   -- Well depth\\n#  hole_depth_va   -- Hole depth\\n#  depth_src_cd    -- Source of depth data\\n#  project_no      -- Project number\\n#\\nagency_cd\\tsite_no\\tstation_nm\\tsite_tp_cd\\tlat_va\\tlong_va\\tdec_lat_va\\tdec_long_va\\tcoord_meth_cd\\tcoord_acy_cd\\tcoord_datum_cd\\tdec_coord_datum_cd\\tdistrict_cd\\tstate_cd\\tcounty_cd\\tcountry_cd\\tland_net_ds\\tmap_nm\\tmap_scale_fc\\talt_va\\talt_meth_cd\\talt_acy_va\\talt_datum_cd\\thuc_cd\\tbasin_cd\\ttopo_cd\\tinstruments_cd\\tconstruction_dt\\tinventory_dt\\tdrain_area_va\\tcontrib_drain_area_va\\ttz_cd\\tlocal_time_fg\\treliability_cd\\tgw_file_cd\\tnat_aqfr_cd\\taqfr_cd\\taqfr_type_cd\\twell_depth_va\\thole_depth_va\\tdepth_src_cd\\tproject_no\\n5s\\t15s\\t50s\\t7s\\t16s\\t16s\\t16s\\t16s\\t1s\\t1s\\t10s\\t10s\\t3s\\t2s\\t3s\\t2s\\t23s\\t20s\\t7s\\t8s\\t1s\\t3s\\t10s\\t16s\\t2s\\t1s\\t30s\\t8s\\t8s\\t8s\\t8s\\t6s\\t1s\\t1s\\t30s\\t10s\\t8s\\t1s\\t8s\\t8s\\t1s\\t12s\\nUSGS\\t401029075161601\\tMG  2240\\tGW\\t401029\\t0751616\\t40.1747222\\t-75.2711111\\tG\\tS\\tNAD83\\tNAD83\\t42\\t42\\t091\\tUS\\t\\tLANSDALE, PA\\t  24000\\t 299\\tN\\t1.6\\tNAVD88\\t02040203\\t\\t\\tNNNNNNNNNNNNNNNNNNNNNNNNNNNNNN\\t\\t\\t\\t\\tEST\\tY\\tC\\tYY   Y\\tN300ERLMZC\\t231LCKG\\t\\t\\t\\t\\t\\n'"
      ]
     },
     "execution_count": 6,
     "metadata": {},
     "output_type": "execute_result"
    }
   ],
   "source": [
    "resp.text"
   ]
  },
  {
   "cell_type": "code",
   "execution_count": 7,
   "id": "cb32ce83-8f7c-4bb8-986d-65828e7eb12c",
   "metadata": {},
   "outputs": [
    {
     "data": {
      "text/plain": [
       "59"
      ]
     },
     "execution_count": 7,
     "metadata": {},
     "output_type": "execute_result"
    }
   ],
   "source": [
    "len_header = 0\n",
    "for line in resp.text.split(\"\\n\"):\n",
    "    if line[0] == \"#\":\n",
    "        len_header += 1\n",
    "    else:\n",
    "        break\n",
    "len_header"
   ]
  },
  {
   "cell_type": "code",
   "execution_count": 8,
   "id": "e13d2991-1313-44c8-b016-ac817307a52a",
   "metadata": {},
   "outputs": [
    {
     "data": {
      "text/plain": [
       "3155"
      ]
     },
     "execution_count": 8,
     "metadata": {},
     "output_type": "execute_result"
    }
   ],
   "source": [
    "buffer = BytesIO()\n",
    "buffer.write(bytes(resp.text, \"utf-8\"))"
   ]
  },
  {
   "cell_type": "code",
   "execution_count": 9,
   "id": "33984e99-8b7e-4a95-af75-9d6261a1f9b4",
   "metadata": {},
   "outputs": [
    {
     "data": {
      "text/plain": [
       "0"
      ]
     },
     "execution_count": 9,
     "metadata": {},
     "output_type": "execute_result"
    }
   ],
   "source": [
    "buffer.seek(0)"
   ]
  },
  {
   "cell_type": "code",
   "execution_count": 10,
   "id": "b4f1e568-a71d-43a1-93f8-f4a6dfdbfe33",
   "metadata": {},
   "outputs": [],
   "source": [
    "df = pd.read_table(buffer, header=len_header)"
   ]
  },
  {
   "cell_type": "code",
   "execution_count": 11,
   "id": "3a9ae03d-7782-4170-bd90-a6ebaf5dc10f",
   "metadata": {},
   "outputs": [
    {
     "data": {
      "text/html": [
       "<div>\n",
       "<style scoped>\n",
       "    .dataframe tbody tr th:only-of-type {\n",
       "        vertical-align: middle;\n",
       "    }\n",
       "\n",
       "    .dataframe tbody tr th {\n",
       "        vertical-align: top;\n",
       "    }\n",
       "\n",
       "    .dataframe thead th {\n",
       "        text-align: right;\n",
       "    }\n",
       "</style>\n",
       "<table border=\"1\" class=\"dataframe\">\n",
       "  <thead>\n",
       "    <tr style=\"text-align: right;\">\n",
       "      <th></th>\n",
       "      <th>agency_cd</th>\n",
       "      <th>site_no</th>\n",
       "      <th>station_nm</th>\n",
       "      <th>site_tp_cd</th>\n",
       "      <th>lat_va</th>\n",
       "      <th>long_va</th>\n",
       "      <th>dec_lat_va</th>\n",
       "      <th>dec_long_va</th>\n",
       "      <th>coord_meth_cd</th>\n",
       "      <th>coord_acy_cd</th>\n",
       "      <th>...</th>\n",
       "      <th>local_time_fg</th>\n",
       "      <th>reliability_cd</th>\n",
       "      <th>gw_file_cd</th>\n",
       "      <th>nat_aqfr_cd</th>\n",
       "      <th>aqfr_cd</th>\n",
       "      <th>aqfr_type_cd</th>\n",
       "      <th>well_depth_va</th>\n",
       "      <th>hole_depth_va</th>\n",
       "      <th>depth_src_cd</th>\n",
       "      <th>project_no</th>\n",
       "    </tr>\n",
       "  </thead>\n",
       "  <tbody>\n",
       "    <tr>\n",
       "      <th>0</th>\n",
       "      <td>5s</td>\n",
       "      <td>15s</td>\n",
       "      <td>50s</td>\n",
       "      <td>7s</td>\n",
       "      <td>16s</td>\n",
       "      <td>16s</td>\n",
       "      <td>16s</td>\n",
       "      <td>16s</td>\n",
       "      <td>1s</td>\n",
       "      <td>1s</td>\n",
       "      <td>...</td>\n",
       "      <td>1s</td>\n",
       "      <td>1s</td>\n",
       "      <td>30s</td>\n",
       "      <td>10s</td>\n",
       "      <td>8s</td>\n",
       "      <td>1s</td>\n",
       "      <td>8s</td>\n",
       "      <td>8s</td>\n",
       "      <td>1s</td>\n",
       "      <td>12s</td>\n",
       "    </tr>\n",
       "    <tr>\n",
       "      <th>1</th>\n",
       "      <td>USGS</td>\n",
       "      <td>401029075161601</td>\n",
       "      <td>MG  2240</td>\n",
       "      <td>GW</td>\n",
       "      <td>401029</td>\n",
       "      <td>0751616</td>\n",
       "      <td>40.1747222</td>\n",
       "      <td>-75.2711111</td>\n",
       "      <td>G</td>\n",
       "      <td>S</td>\n",
       "      <td>...</td>\n",
       "      <td>Y</td>\n",
       "      <td>C</td>\n",
       "      <td>YY   Y</td>\n",
       "      <td>N300ERLMZC</td>\n",
       "      <td>231LCKG</td>\n",
       "      <td>NaN</td>\n",
       "      <td>NaN</td>\n",
       "      <td>NaN</td>\n",
       "      <td>NaN</td>\n",
       "      <td>NaN</td>\n",
       "    </tr>\n",
       "  </tbody>\n",
       "</table>\n",
       "<p>2 rows × 42 columns</p>\n",
       "</div>"
      ],
      "text/plain": [
       "  agency_cd          site_no station_nm site_tp_cd  lat_va  long_va  \\\n",
       "0        5s              15s        50s         7s     16s      16s   \n",
       "1      USGS  401029075161601   MG  2240         GW  401029  0751616   \n",
       "\n",
       "   dec_lat_va  dec_long_va coord_meth_cd coord_acy_cd  ... local_time_fg  \\\n",
       "0         16s          16s            1s           1s  ...            1s   \n",
       "1  40.1747222  -75.2711111             G            S  ...             Y   \n",
       "\n",
       "  reliability_cd gw_file_cd nat_aqfr_cd  aqfr_cd aqfr_type_cd well_depth_va  \\\n",
       "0             1s        30s         10s       8s           1s            8s   \n",
       "1              C     YY   Y  N300ERLMZC  231LCKG          NaN           NaN   \n",
       "\n",
       "  hole_depth_va depth_src_cd project_no  \n",
       "0            8s           1s        12s  \n",
       "1           NaN          NaN        NaN  \n",
       "\n",
       "[2 rows x 42 columns]"
      ]
     },
     "execution_count": 11,
     "metadata": {},
     "output_type": "execute_result"
    }
   ],
   "source": [
    "df"
   ]
  },
  {
   "cell_type": "markdown",
   "id": "20926526-650e-4b26-8b54-edc49e4117e0",
   "metadata": {},
   "source": [
    "## Get all site metadata information"
   ]
  },
  {
   "cell_type": "code",
   "execution_count": 12,
   "id": "a421f0da-3ade-468e-ab51-9529a7c14374",
   "metadata": {},
   "outputs": [],
   "source": [
    "try:\n",
    "    os.mkdir(\"../../data/extract/USGSGroundwaterSiteMetadata\")\n",
    "except FileExistsError as e:\n",
    "    pass"
   ]
  },
  {
   "cell_type": "code",
   "execution_count": 13,
   "id": "b1b5fcae-d92d-455f-9c3b-9f1a53324c69",
   "metadata": {},
   "outputs": [],
   "source": [
    "base_url = \"https://waterservices.usgs.gov/nwis/site/?format=rdb&sites={site_num}&siteOutput=expanded&siteStatus=all\""
   ]
  },
  {
   "cell_type": "code",
   "execution_count": 14,
   "id": "e53a0e70-50c1-4011-a0db-96b7aa791b28",
   "metadata": {},
   "outputs": [
    {
     "data": {
      "text/plain": [
       "0"
      ]
     },
     "execution_count": 14,
     "metadata": {},
     "output_type": "execute_result"
    }
   ],
   "source": [
    "failures = []\n",
    "for site_num in list_of_site_numbers:\n",
    "    url = base_url.format(site_num=site_num)\n",
    "    resp = requests.get(url)\n",
    "    if resp.status_code != 200:\n",
    "        failues.append(\n",
    "            {\n",
    "                \"site_num\": site_num,\n",
    "                \"url\": url,\n",
    "                \"response_status\": resp.status_code,\n",
    "                \"response\": resp,\n",
    "            }\n",
    "        )\n",
    "    else:\n",
    "        with open(f\"../../data/extract/USGSGroundwaterSiteMetadata/{site_num}.rdb\", \"w\") as f:\n",
    "            f.write(resp.text)\n",
    "\n",
    "len(failures)"
   ]
  },
  {
   "cell_type": "markdown",
   "id": "5594484a-ef97-4035-bc33-2b5c0ba5ef6a",
   "metadata": {},
   "source": [
    "## Get all site records"
   ]
  },
  {
   "cell_type": "code",
   "execution_count": 15,
   "id": "0fddb879-bd0b-426c-bc83-7b0214930bbc",
   "metadata": {},
   "outputs": [],
   "source": [
    "try:\n",
    "    os.mkdir(\"../../data/extract/USGSGroundwaterObservations\")\n",
    "except FileExistsError as e:\n",
    "    pass"
   ]
  },
  {
   "cell_type": "code",
   "execution_count": 16,
   "id": "66ab82fd-f9ab-4d88-afec-57a91b7ce7bc",
   "metadata": {},
   "outputs": [],
   "source": [
    "base_url = \"https://nwis.waterdata.usgs.gov/nwis/gwlevels?site_no={site_num}&agency_cd=USGS&format=rdb\""
   ]
  },
  {
   "cell_type": "code",
   "execution_count": 17,
   "id": "4de7a267-042f-4b9b-81c0-9ce02fd62fbe",
   "metadata": {},
   "outputs": [
    {
     "data": {
      "text/plain": [
       "0"
      ]
     },
     "execution_count": 17,
     "metadata": {},
     "output_type": "execute_result"
    }
   ],
   "source": [
    "failures = []\n",
    "for site_num in list_of_site_numbers:\n",
    "    url = base_url.format(site_num=site_num)\n",
    "    resp = requests.get(url)\n",
    "    if resp.status_code != 200:\n",
    "        failues.append(\n",
    "            {\n",
    "                \"site_num\": site_num,\n",
    "                \"url\": url,\n",
    "                \"response_status\": resp.status_code,\n",
    "                \"response\": resp,\n",
    "            }\n",
    "        )\n",
    "    else:\n",
    "        with open(f\"../../data/extract/USGSGroundwaterObservations/{site_num}.rdb\", \"w\") as f:\n",
    "            f.write(resp.text)\n",
    "\n",
    "len(failures)"
   ]
  },
  {
   "cell_type": "markdown",
   "id": "f29e870c-1935-4029-8b51-21589616b3db",
   "metadata": {},
   "source": [
    "# Make Two Crates"
   ]
  },
  {
   "cell_type": "code",
   "execution_count": 18,
   "id": "8c477b80-bebb-4cbf-b1c0-16c00c806d8d",
   "metadata": {},
   "outputs": [],
   "source": [
    "import os\n",
    "from datetime import date\n",
    "from rocrate.rocrate import ROCrate\n",
    "from rocrate.model import (\n",
    "    Person,\n",
    "    File,\n",
    "    Dataset,\n",
    "    ComputationalWorkflow,\n",
    "    ContextEntity,\n",
    ")"
   ]
  },
  {
   "cell_type": "code",
   "execution_count": 19,
   "id": "772a35f7-c957-4336-b3dd-970b3f9b8204",
   "metadata": {},
   "outputs": [],
   "source": [
    "def get_file_size(path):\n",
    "    file_stats = os.stat(path)\n",
    "    size = file_stats.st_size\n",
    "    if size >= 1024*1024:\n",
    "        return f\"{round(file_stats.st_size / (1024*1024), 2)}MB\"\n",
    "    elif size >= 1024:\n",
    "        return f\"{round(file_stats.st_size / 1024, 2)}KB\"\n",
    "    else:         \n",
    "        return f\"{file_stats.st_size}B\""
   ]
  },
  {
   "cell_type": "markdown",
   "id": "ae40716b-e2cf-4e14-af06-2392176d4bd0",
   "metadata": {},
   "source": [
    "## First Crate - Site Metadata"
   ]
  },
  {
   "cell_type": "code",
   "execution_count": 20,
   "id": "5ba2b4ef-734d-450c-9f3b-ea8213aec987",
   "metadata": {},
   "outputs": [],
   "source": [
    "crate = ROCrate()"
   ]
  },
  {
   "cell_type": "markdown",
   "id": "5c027e34-6fcb-4173-971e-156edd5ca2df",
   "metadata": {},
   "source": [
    "### Main Attributes\n",
    "\n",
    "- name\n",
    "- publisher {\"@id\": \"#local_id\"} or {\"@id\": \"url\"}\n",
    "- creater {\"@id\": \"#person\"}\n",
    "- license\n",
    "- datePublished\n",
    "- keywords (ex. \"streets, aggregated features, map\")\n",
    "- mainEntity Output Dataset\n",
    "\n",
    "Contextual\n",
    "\n",
    "- Publisher\n",
    "    - @type Organization\n",
    "    - name\n",
    "    - url"
   ]
  },
  {
   "cell_type": "code",
   "execution_count": 21,
   "id": "26b0adb0-6e42-4953-905d-962fb93119b5",
   "metadata": {},
   "outputs": [],
   "source": [
    "name = \"USGS Well Groundwater Data Site Metadata\"\n",
    "short_name = \"USGSGroundwaterSiteMetadata\""
   ]
  },
  {
   "cell_type": "code",
   "execution_count": 22,
   "id": "2862295f-c220-4978-bd1c-f5865a9e9f21",
   "metadata": {},
   "outputs": [],
   "source": [
    "usgs = crate.add(\n",
    "    ContextEntity(\n",
    "        crate,\n",
    "        \"U.S. Geological Survey\",\n",
    "        properties={\n",
    "            \"@type\": \"Organization\",\n",
    "            \"name\": \"U.S. Geological Survey\",\n",
    "            \"url\": \"https://www.usgs.gov/\"\n",
    "        },\n",
    "    )\n",
    ")"
   ]
  },
  {
   "cell_type": "code",
   "execution_count": 23,
   "id": "b4d46c34-0a33-4cac-a550-5754389c1ad4",
   "metadata": {},
   "outputs": [],
   "source": [
    "us_public_domain = crate.add(\n",
    "    ContextEntity(\n",
    "        crate,\n",
    "        \"U.S. Public Domain\",\n",
    "        properties={\n",
    "            \"@type\": \"License\",\n",
    "            \"name\": \"U.S. Public Domain\",\n",
    "            \"url\": \"http://www.usa.gov/publicdomain/label/1.0/\",\n",
    "        },\n",
    "    )\n",
    ")"
   ]
  },
  {
   "cell_type": "code",
   "execution_count": 24,
   "id": "673541cc-86e6-420a-bf40-89949f7391e6",
   "metadata": {},
   "outputs": [],
   "source": [
    "date_published = date(2024, 4, 13).isoformat()"
   ]
  },
  {
   "cell_type": "code",
   "execution_count": 25,
   "id": "54e754c3-1f98-4a0e-8553-87b85fa29e2d",
   "metadata": {},
   "outputs": [],
   "source": [
    "crate.name = name\n",
    "crate.publisher = usgs\n",
    "crate.creator = usgs\n",
    "crate.license = us_public_domain\n",
    "crate.datePublished = date_published\n",
    "crate.keywords = [\"USGS\", \"National Water Information System\", \"Groundwater\", \"Ingested Data\", \"Raw\"]"
   ]
  },
  {
   "cell_type": "markdown",
   "id": "b6e88c9f-7130-424f-9429-0abbaa22d84b",
   "metadata": {},
   "source": [
    "### Dataset\n",
    "\n",
    "- source (File(s))\n",
    "- description\n",
    "- contentSize (MB, KB, or B)\n",
    "- encodingFormat (from PRONOM: https://www.nationalarchives.gov.uk/PRONOM)\n",
    "\n",
    "Contextual \n",
    "\n",
    "- encodingFormat\n",
    "    - @id PRONOM url\n",
    "    - @type Website\n",
    "    - name"
   ]
  },
  {
   "cell_type": "code",
   "execution_count": 26,
   "id": "67ffccbb-0e13-47de-84ba-70b74d4195cb",
   "metadata": {},
   "outputs": [],
   "source": [
    "encoding_format = crate.add(\n",
    "    ContextEntity(\n",
    "        crate,\n",
    "        \"https://www.nationalarchives.gov.uk/PRONOM/x-fmt/271\",\n",
    "        properties={\n",
    "            \"@type\": \"Website\",\n",
    "            \"name\": \"dBASE Database\",\n",
    "        },\n",
    "    )\n",
    ")"
   ]
  },
  {
   "cell_type": "code",
   "execution_count": 27,
   "id": "ad12cf35-7f62-44dd-ae0a-3021b955e2ac",
   "metadata": {},
   "outputs": [],
   "source": [
    "# Dataset Files - Metadata\n",
    "raw_files = []\n",
    "for site_num in list_of_site_numbers:\n",
    "    raw_file = crate.add (\n",
    "        File(\n",
    "            crate,\n",
    "            source=f\"file:///data/extract/{short_name}/{site_num}.rdb\",\n",
    "            properties={\n",
    "                \"contentSize\": get_file_size(f\"../../data/extract/{short_name}/{site_num}.rdb\"),\n",
    "                \"encodingFormat\": [encoding_format.properties()[\"name\"], {\"@id\": encoding_format.id}],\n",
    "            }\n",
    "        )\n",
    "    )\n",
    "    raw_files.append(raw_file)"
   ]
  },
  {
   "cell_type": "code",
   "execution_count": 28,
   "id": "e043b6eb-4fae-47af-96a3-6a4b1d298834",
   "metadata": {},
   "outputs": [],
   "source": [
    "raw_dataset = crate.add(\n",
    "    Dataset(\n",
    "        crate,\n",
    "        source=f\"file:///data/extract/{short_name}\",\n",
    "        properties={\n",
    "            \"description\": \"Groundwater Well Site Metadata for Philadelphia County, Pennsylvania\",\n",
    "            \"hasParts\": [\n",
    "                {\"@id\": raw_file.id}\n",
    "                for raw_file in raw_files\n",
    "            ]\n",
    "        }\n",
    "    )\n",
    ")"
   ]
  },
  {
   "cell_type": "code",
   "execution_count": 29,
   "id": "0ebc2ce0-1641-4a92-a241-b33a9e17e166",
   "metadata": {},
   "outputs": [],
   "source": [
    "# Main Entry\n",
    "crate.mainEntity = raw_dataset"
   ]
  },
  {
   "cell_type": "code",
   "execution_count": 30,
   "id": "72022f67-12b0-4427-852d-21569819a8bd",
   "metadata": {},
   "outputs": [
    {
     "data": {
      "text/plain": [
       "'file:///data/extract/USGSGroundwaterSiteMetadata'"
      ]
     },
     "execution_count": 30,
     "metadata": {},
     "output_type": "execute_result"
    }
   ],
   "source": [
    "crate.mainEntity.source"
   ]
  },
  {
   "cell_type": "markdown",
   "id": "e15f5849-1494-4dbd-af48-abee33c7104a",
   "metadata": {},
   "source": [
    "### Store Research Object"
   ]
  },
  {
   "cell_type": "code",
   "execution_count": 31,
   "id": "74800a79-1e8f-4ce6-ba04-a159e98123e8",
   "metadata": {},
   "outputs": [],
   "source": [
    "crate.write(f\"../../metastore/{short_name}/\")"
   ]
  },
  {
   "cell_type": "markdown",
   "id": "523e2436-7190-4900-a6ba-b491f3a500fa",
   "metadata": {},
   "source": [
    "### Confirm Usage of Crate"
   ]
  },
  {
   "cell_type": "code",
   "execution_count": 32,
   "id": "4e3692d3-af3e-4612-807e-805e51d68db0",
   "metadata": {},
   "outputs": [],
   "source": [
    "read_crate = ROCrate(f\"../../metastore/{short_name}/\")"
   ]
  },
  {
   "cell_type": "code",
   "execution_count": 33,
   "id": "940a3809-1a3a-477a-8e32-9716ea2d9a24",
   "metadata": {},
   "outputs": [
    {
     "name": "stdout",
     "output_type": "stream",
     "text": [
      "./ Dataset\n",
      "ro-crate-metadata.json CreativeWork\n",
      "file:///data/extract/USGSGroundwaterSiteMetadata/400132075031001.rdb File\n",
      "file:///data/extract/USGSGroundwaterSiteMetadata/400001075040301.rdb File\n",
      "file:///data/extract/USGSGroundwaterSiteMetadata/400217075142101.rdb File\n",
      "file:///data/extract/USGSGroundwaterSiteMetadata/395611075091301.rdb File\n",
      "file:///data/extract/USGSGroundwaterSiteMetadata/395353075151501.rdb File\n",
      "file:///data/extract/USGSGroundwaterSiteMetadata/395416075150301.rdb File\n",
      "file:///data/extract/USGSGroundwaterSiteMetadata/395459075140501.rdb File\n",
      "file:///data/extract/USGSGroundwaterSiteMetadata/395705075135901.rdb File\n",
      "file:///data/extract/USGSGroundwaterSiteMetadata/400211075093701.rdb File\n",
      "file:///data/extract/USGSGroundwaterSiteMetadata/400327075152201.rdb File\n",
      "file:///data/extract/USGSGroundwaterSiteMetadata/400424075104901.rdb File\n",
      "file:///data/extract/USGSGroundwaterSiteMetadata/400512075033401.rdb File\n",
      "file:///data/extract/USGSGroundwaterSiteMetadata/400311075101301.rdb File\n",
      "file:///data/extract/USGSGroundwaterSiteMetadata/400055075122501.rdb File\n",
      "file:///data/extract/USGSGroundwaterSiteMetadata/400038075094601.rdb File\n",
      "file:///data/extract/USGSGroundwaterSiteMetadata/400016075102801.rdb File\n",
      "file:///data/extract/USGSGroundwaterSiteMetadata/395849075134201.rdb File\n",
      "file:///data/extract/USGSGroundwaterSiteMetadata/395656075104401.rdb File\n",
      "file:///data/extract/USGSGroundwaterSiteMetadata/395408075104001.rdb File\n",
      "file:///data/extract/USGSGroundwaterSiteMetadata/395341075102101.rdb File\n",
      "file:///data/extract/USGSGroundwaterSiteMetadata/400644074590801.rdb File\n",
      "file:///data/extract/USGSGroundwaterSiteMetadata/400308074592201.rdb File\n",
      "file:///data/extract/USGSGroundwaterSiteMetadata/400516075033201.rdb File\n",
      "file:///data/extract/USGSGroundwaterSiteMetadata/ Dataset\n",
      "#U.S. Geological Survey Organization\n",
      "#U.S. Public Domain License\n",
      "https://www.nationalarchives.gov.uk/PRONOM/x-fmt/271 Website\n"
     ]
    }
   ],
   "source": [
    "for e in read_crate.get_entities():\n",
    "    print(e.id, e.type)"
   ]
  },
  {
   "cell_type": "code",
   "execution_count": 34,
   "id": "4e59b0f4-32dd-4da7-8870-0ee4d53e37fc",
   "metadata": {},
   "outputs": [
    {
     "data": {
      "text/plain": [
       "'file:///data/extract/USGSGroundwaterSiteMetadata/'"
      ]
     },
     "execution_count": 34,
     "metadata": {},
     "output_type": "execute_result"
    }
   ],
   "source": [
    "main_id = read_crate.mainEntity.id\n",
    "main_id"
   ]
  },
  {
   "cell_type": "code",
   "execution_count": 35,
   "id": "bc327197-68f3-4903-88ac-089f4c2a4206",
   "metadata": {},
   "outputs": [
    {
     "data": {
      "text/plain": [
       "'file:///data/extract/USGSGroundwaterSiteMetadata/400132075031001.rdb'"
      ]
     },
     "execution_count": 35,
     "metadata": {},
     "output_type": "execute_result"
    }
   ],
   "source": [
    "file_id = read_crate.get(main_id).properties().get(\"hasParts\")[0][\"@id\"]\n",
    "file_id"
   ]
  },
  {
   "cell_type": "code",
   "execution_count": 36,
   "id": "c07ff945-c69d-4f58-9b07-f2c0fd82c670",
   "metadata": {},
   "outputs": [
    {
     "data": {
      "text/plain": [
       "'file:///data/extract/USGSGroundwaterSiteMetadata/400132075031001.rdb'"
      ]
     },
     "execution_count": 36,
     "metadata": {},
     "output_type": "execute_result"
    }
   ],
   "source": [
    "read_crate.get(file_id).source"
   ]
  },
  {
   "cell_type": "markdown",
   "id": "ad7f8637-4955-4e96-b27c-abe9b8d7b972",
   "metadata": {},
   "source": [
    "## Second Crate - Site Observations"
   ]
  },
  {
   "cell_type": "code",
   "execution_count": 37,
   "id": "11adf24d-f766-43a4-8b34-16327dd831a5",
   "metadata": {},
   "outputs": [],
   "source": [
    "crate = ROCrate()"
   ]
  },
  {
   "cell_type": "markdown",
   "id": "539c763e-987e-4fff-acf3-af71028bbcd9",
   "metadata": {},
   "source": [
    "### Main Attributes\n",
    "\n",
    "- name\n",
    "- publisher {\"@id\": \"#local_id\"} or {\"@id\": \"url\"}\n",
    "- creater {\"@id\": \"#person\"}\n",
    "- license\n",
    "- datePublished\n",
    "- keywords (ex. \"streets, aggregated features, map\")\n",
    "- mainEntity Output Dataset\n",
    "\n",
    "Contextual\n",
    "\n",
    "- Publisher\n",
    "    - @type Organization\n",
    "    - name\n",
    "    - url"
   ]
  },
  {
   "cell_type": "code",
   "execution_count": 38,
   "id": "987347a1-b975-4f9d-ac96-59f4095b8b6d",
   "metadata": {},
   "outputs": [],
   "source": [
    "name = \"USGS Well Groundwater Data Site Observations\"\n",
    "short_name = \"USGSGroundwaterObservations\""
   ]
  },
  {
   "cell_type": "code",
   "execution_count": 39,
   "id": "692c28d8-3d01-40dc-b322-3bd87f49f1ed",
   "metadata": {},
   "outputs": [],
   "source": [
    "usgs = crate.add(\n",
    "    ContextEntity(\n",
    "        crate,\n",
    "        \"U.S. Geological Survey\",\n",
    "        properties={\n",
    "            \"@type\": \"Organization\",\n",
    "            \"name\": \"U.S. Geological Survey\",\n",
    "            \"url\": \"https://www.usgs.gov/\"\n",
    "        },\n",
    "    )\n",
    ")"
   ]
  },
  {
   "cell_type": "code",
   "execution_count": 40,
   "id": "cf4503fa-d26d-4e91-9d2b-bab1e4f30ec7",
   "metadata": {},
   "outputs": [],
   "source": [
    "us_public_domain = crate.add(\n",
    "    ContextEntity(\n",
    "        crate,\n",
    "        \"U.S. Public Domain\",\n",
    "        properties={\n",
    "            \"@type\": \"License\",\n",
    "            \"name\": \"U.S. Public Domain\",\n",
    "            \"url\": \"http://www.usa.gov/publicdomain/label/1.0/\",\n",
    "        },\n",
    "    )\n",
    ")"
   ]
  },
  {
   "cell_type": "code",
   "execution_count": 41,
   "id": "1a800442-6e2f-4cc4-9f4c-53e469e7836b",
   "metadata": {},
   "outputs": [],
   "source": [
    "date_published = date(2024, 4, 13).isoformat()"
   ]
  },
  {
   "cell_type": "code",
   "execution_count": 42,
   "id": "d85f6b38-8814-4352-8be6-64ec67a332c9",
   "metadata": {},
   "outputs": [],
   "source": [
    "crate.name = name\n",
    "crate.publisher = usgs\n",
    "crate.creator = usgs\n",
    "crate.license = us_public_domain\n",
    "crate.datePublished = date_published\n",
    "crate.keywords = [\"USGS\", \"National Water Information System\", \"Groundwater\", \"Ingested Data\", \"Raw\"]"
   ]
  },
  {
   "cell_type": "markdown",
   "id": "7c814658-1d8c-41a7-b47b-01741652eeab",
   "metadata": {},
   "source": [
    "### Dataset\n",
    "\n",
    "- source (File(s))\n",
    "- description\n",
    "- contentSize (MB, KB, or B)\n",
    "- encodingFormat (from PRONOM: https://www.nationalarchives.gov.uk/PRONOM)\n",
    "\n",
    "Contextual \n",
    "\n",
    "- encodingFormat\n",
    "    - @id PRONOM url\n",
    "    - @type Website\n",
    "    - name"
   ]
  },
  {
   "cell_type": "code",
   "execution_count": 43,
   "id": "d4c8998c-c65c-4dbd-8440-8cea1dfde00b",
   "metadata": {},
   "outputs": [],
   "source": [
    "encoding_format = crate.add(\n",
    "    ContextEntity(\n",
    "        crate,\n",
    "        \"https://www.nationalarchives.gov.uk/PRONOM/x-fmt/271\",\n",
    "        properties={\n",
    "            \"@type\": \"Website\",\n",
    "            \"name\": \"dBASE Database\",\n",
    "        },\n",
    "    )\n",
    ")"
   ]
  },
  {
   "cell_type": "code",
   "execution_count": 44,
   "id": "aa291b78-9bb3-415a-ac94-9ea6b18235d2",
   "metadata": {},
   "outputs": [],
   "source": [
    "# Dataset Files - Metadata\n",
    "raw_files = []\n",
    "for site_num in list_of_site_numbers:\n",
    "    raw_file = crate.add (\n",
    "        File(\n",
    "            crate,\n",
    "            source=f\"file:///data/extract/{short_name}/{site_num}.rdb\",\n",
    "            properties={\n",
    "                \"contentSize\": get_file_size(f\"../../data/extract/{short_name}/{site_num}.rdb\"),\n",
    "                \"encodingFormat\": [encoding_format.properties()[\"name\"], {\"@id\": encoding_format.id}],\n",
    "            }\n",
    "        )\n",
    "    )\n",
    "    raw_files.append(raw_file)"
   ]
  },
  {
   "cell_type": "code",
   "execution_count": 45,
   "id": "971c14a5-b6ae-4902-9d98-835044f99696",
   "metadata": {},
   "outputs": [],
   "source": [
    "raw_dataset = crate.add(\n",
    "    Dataset(\n",
    "        crate,\n",
    "        source=f\"file:///data/extract/{short_name}\",\n",
    "        properties={\n",
    "            \"description\": \"Groundwater Well Measurements for Philadelphia County, Pennsylvania\",\n",
    "            \"hasParts\": [\n",
    "                {\"@id\": raw_file.id}\n",
    "                for raw_file in raw_files\n",
    "            ]\n",
    "        }\n",
    "    )\n",
    ")"
   ]
  },
  {
   "cell_type": "code",
   "execution_count": 46,
   "id": "5e9aed26-56c9-45c5-9d55-575829b77c9c",
   "metadata": {},
   "outputs": [],
   "source": [
    "# Main Entry\n",
    "crate.mainEntity = raw_dataset"
   ]
  },
  {
   "cell_type": "code",
   "execution_count": 47,
   "id": "31b768fc-d1a9-4958-acb3-5eceed050aff",
   "metadata": {},
   "outputs": [
    {
     "data": {
      "text/plain": [
       "'file:///data/extract/USGSGroundwaterObservations'"
      ]
     },
     "execution_count": 47,
     "metadata": {},
     "output_type": "execute_result"
    }
   ],
   "source": [
    "crate.mainEntity.source"
   ]
  },
  {
   "cell_type": "markdown",
   "id": "1004085e-8019-4732-8a40-909a1e7de8d2",
   "metadata": {},
   "source": [
    "### Store Research Object"
   ]
  },
  {
   "cell_type": "code",
   "execution_count": 48,
   "id": "1cd54cee-af20-4a86-825e-61c7b3ffbd89",
   "metadata": {},
   "outputs": [],
   "source": [
    "crate.write(f\"../../metastore/{short_name}/\")"
   ]
  },
  {
   "cell_type": "markdown",
   "id": "a8fb32b0-7adf-4de9-8fa3-1d88db2926ae",
   "metadata": {},
   "source": [
    "### Confirm Usage of Crate"
   ]
  },
  {
   "cell_type": "code",
   "execution_count": 49,
   "id": "e9e1b7de-bae3-4193-8978-b40ca6a99bd7",
   "metadata": {},
   "outputs": [],
   "source": [
    "read_crate = ROCrate(f\"../../metastore/{short_name}/\")"
   ]
  },
  {
   "cell_type": "code",
   "execution_count": 50,
   "id": "810dac4f-55b2-4066-81d0-885015e1fb45",
   "metadata": {},
   "outputs": [
    {
     "name": "stdout",
     "output_type": "stream",
     "text": [
      "./ Dataset\n",
      "ro-crate-metadata.json CreativeWork\n",
      "file:///data/extract/USGSGroundwaterObservations/400132075031001.rdb File\n",
      "file:///data/extract/USGSGroundwaterObservations/400001075040301.rdb File\n",
      "file:///data/extract/USGSGroundwaterObservations/400217075142101.rdb File\n",
      "file:///data/extract/USGSGroundwaterObservations/395611075091301.rdb File\n",
      "file:///data/extract/USGSGroundwaterObservations/395353075151501.rdb File\n",
      "file:///data/extract/USGSGroundwaterObservations/395416075150301.rdb File\n",
      "file:///data/extract/USGSGroundwaterObservations/395459075140501.rdb File\n",
      "file:///data/extract/USGSGroundwaterObservations/395705075135901.rdb File\n",
      "file:///data/extract/USGSGroundwaterObservations/400211075093701.rdb File\n",
      "file:///data/extract/USGSGroundwaterObservations/400327075152201.rdb File\n",
      "file:///data/extract/USGSGroundwaterObservations/400424075104901.rdb File\n",
      "file:///data/extract/USGSGroundwaterObservations/400512075033401.rdb File\n",
      "file:///data/extract/USGSGroundwaterObservations/400311075101301.rdb File\n",
      "file:///data/extract/USGSGroundwaterObservations/400055075122501.rdb File\n",
      "file:///data/extract/USGSGroundwaterObservations/400038075094601.rdb File\n",
      "file:///data/extract/USGSGroundwaterObservations/400016075102801.rdb File\n",
      "file:///data/extract/USGSGroundwaterObservations/395849075134201.rdb File\n",
      "file:///data/extract/USGSGroundwaterObservations/395656075104401.rdb File\n",
      "file:///data/extract/USGSGroundwaterObservations/395408075104001.rdb File\n",
      "file:///data/extract/USGSGroundwaterObservations/395341075102101.rdb File\n",
      "file:///data/extract/USGSGroundwaterObservations/400644074590801.rdb File\n",
      "file:///data/extract/USGSGroundwaterObservations/400308074592201.rdb File\n",
      "file:///data/extract/USGSGroundwaterObservations/400516075033201.rdb File\n",
      "file:///data/extract/USGSGroundwaterObservations/ Dataset\n",
      "#U.S. Geological Survey Organization\n",
      "#U.S. Public Domain License\n",
      "https://www.nationalarchives.gov.uk/PRONOM/x-fmt/271 Website\n"
     ]
    }
   ],
   "source": [
    "for e in read_crate.get_entities():\n",
    "    print(e.id, e.type)"
   ]
  },
  {
   "cell_type": "code",
   "execution_count": 51,
   "id": "0d4e531d-210e-465e-bb24-4025b0bf59bd",
   "metadata": {},
   "outputs": [
    {
     "data": {
      "text/plain": [
       "'file:///data/extract/USGSGroundwaterObservations/'"
      ]
     },
     "execution_count": 51,
     "metadata": {},
     "output_type": "execute_result"
    }
   ],
   "source": [
    "main_id = read_crate.mainEntity.id\n",
    "main_id"
   ]
  },
  {
   "cell_type": "code",
   "execution_count": 52,
   "id": "4607f32f-2c16-4775-817f-c67ed822559a",
   "metadata": {},
   "outputs": [
    {
     "data": {
      "text/plain": [
       "'file:///data/extract/USGSGroundwaterObservations/400132075031001.rdb'"
      ]
     },
     "execution_count": 52,
     "metadata": {},
     "output_type": "execute_result"
    }
   ],
   "source": [
    "file_id = read_crate.get(main_id).properties().get(\"hasParts\")[0][\"@id\"]\n",
    "file_id"
   ]
  },
  {
   "cell_type": "code",
   "execution_count": 53,
   "id": "4fdc78d8-889c-4b7d-9f21-6661d65cf978",
   "metadata": {},
   "outputs": [
    {
     "data": {
      "text/plain": [
       "'file:///data/extract/USGSGroundwaterObservations/400132075031001.rdb'"
      ]
     },
     "execution_count": 53,
     "metadata": {},
     "output_type": "execute_result"
    }
   ],
   "source": [
    "read_crate.get(file_id).source"
   ]
  },
  {
   "cell_type": "code",
   "execution_count": null,
   "id": "a7e79acd-f657-44f8-9125-3c98d4a7aab0",
   "metadata": {},
   "outputs": [],
   "source": []
  }
 ],
 "metadata": {
  "kernelspec": {
   "display_name": "Python 3 (ipykernel)",
   "language": "python",
   "name": "python3"
  },
  "language_info": {
   "codemirror_mode": {
    "name": "ipython",
    "version": 3
   },
   "file_extension": ".py",
   "mimetype": "text/x-python",
   "name": "python",
   "nbconvert_exporter": "python",
   "pygments_lexer": "ipython3",
   "version": "3.12.2"
  }
 },
 "nbformat": 4,
 "nbformat_minor": 5
}
