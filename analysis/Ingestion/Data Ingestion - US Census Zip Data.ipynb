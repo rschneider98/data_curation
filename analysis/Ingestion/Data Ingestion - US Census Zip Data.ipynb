{
 "cells": [
  {
   "cell_type": "markdown",
   "id": "1e3da9b5-871c-45b3-8d6c-1d69133206a6",
   "metadata": {},
   "source": [
    "# Data Ingestion of US Census Block Data\n",
    "\n",
    "Add raw data to project and manually create metadata for the upstream source.\n",
    "\n",
    "Each dataset gets its own research object to track them individually without creating a very large, interconnected research object for the whole project."
   ]
  },
  {
   "cell_type": "markdown",
   "id": "9412c1ff-3977-4b41-96b6-2a798abaa28a",
   "metadata": {},
   "source": [
    "## Dataset Descriptions\n",
    "\n",
    "Use attributes and entities as needed\n",
    "\n",
    "- Attributes\n",
    "    - name\n",
    "    - publisher {\"@id\": \"#local_id\"} or {\"@id\": \"url\"}\n",
    "    - creater {\"@id\": \"#person\"}\n",
    "    - license\n",
    "    - datePublished\n",
    "    - keywords (ex. \"streets, aggregated features, map\")\n",
    "    - mainEntity Output Dataset \n",
    "- Data Entities\n",
    "    - File\n",
    "        - source (File(s))\n",
    "        - description\n",
    "        - contentSize (MB, KB, or B)\n",
    "        - encodingFormat (from PRONOM: https://www.nationalarchives.gov.uk/PRONOM)\n",
    "        - sha256\n",
    "    - Dataset\n",
    "        - source (File(s))\n",
    "        - description\n",
    "        - contentSize (MB, KB, or B)\n",
    "        - encodingFormat (from PRONOM: https://www.nationalarchives.gov.uk/PRONOM)\n",
    "    - ComputationalWorkflow\n",
    "        - @type (pre-defined with built-in models) [\"File\", \"SoftwareSourceCode\", \"ComputationalWorkflow\"]\n",
    "        - source (File)\n",
    "        - author\n",
    "        - programmingLanguage\n",
    "        - input [{\"@id\": \"#id1\"}, {\"@id\": \"#id2\"}]\n",
    "        - output [{\"@id\": \"#id3\"}]\n",
    "- Contextual Entities\n",
    "    - Publisher\n",
    "        - @type Organization\n",
    "        - name\n",
    "        - url\n",
    "    - Person\n",
    "        - name\n",
    "    - programmingLanguage\n",
    "        - @type [\"ComputerLanguage\", \"SoftwareApplication\"]\n",
    "        - name\n",
    "        - version\n",
    "        - url\n",
    "    - encodingFormat\n",
    "        - @id PRONOM url\n",
    "        - @type Website\n",
    "        - name\n",
    "    - input\n",
    "        - @type FormalParameter\n",
    "        - name\n",
    "        - defaultValue {\"@id\": \"#ReferenceToUpstreamDataset\"}\n",
    "        - encodingFormat\n",
    "        - valueRequired True\n",
    "    - output\n",
    "        - @type FormalParameter\n",
    "        - name\n",
    "        - defaultValue {\"@id\": \"#ReferenceToDownstreamDataset\"}\n",
    "        - encodingFormat\n",
    "        - valueRequired True"
   ]
  },
  {
   "cell_type": "code",
   "execution_count": 1,
   "id": "8c477b80-bebb-4cbf-b1c0-16c00c806d8d",
   "metadata": {},
   "outputs": [],
   "source": [
    "from datetime import date\n",
    "from rocrate.rocrate import ROCrate\n",
    "from rocrate.model import (\n",
    "    Person,\n",
    "    File,\n",
    "    Dataset,\n",
    "    ComputationalWorkflow,\n",
    "    ContextEntity,\n",
    ")"
   ]
  },
  {
   "cell_type": "code",
   "execution_count": 2,
   "id": "5ba2b4ef-734d-450c-9f3b-ea8213aec987",
   "metadata": {},
   "outputs": [],
   "source": [
    "crate = ROCrate()"
   ]
  },
  {
   "cell_type": "markdown",
   "id": "5c027e34-6fcb-4173-971e-156edd5ca2df",
   "metadata": {},
   "source": [
    "### Main Attributes\n",
    "\n",
    "- name\n",
    "- publisher {\"@id\": \"#local_id\"} or {\"@id\": \"url\"}\n",
    "- creater {\"@id\": \"#person\"}\n",
    "- license\n",
    "- datePublished\n",
    "- keywords (ex. \"streets, aggregated features, map\")\n",
    "- mainEntity Output Dataset\n",
    "\n",
    "Contextual\n",
    "\n",
    "- Publisher\n",
    "    - @type Organization\n",
    "    - name\n",
    "    - url"
   ]
  },
  {
   "cell_type": "code",
   "execution_count": 3,
   "id": "26b0adb0-6e42-4953-905d-962fb93119b5",
   "metadata": {},
   "outputs": [],
   "source": [
    "name = \"US 2020 Census Zip Population Data for Pennsylvania\"\n",
    "short_name = \"US2020CensusZCTA5PA\""
   ]
  },
  {
   "cell_type": "code",
   "execution_count": 4,
   "id": "2862295f-c220-4978-bd1c-f5865a9e9f21",
   "metadata": {},
   "outputs": [],
   "source": [
    "us_census_bureau = crate.add(\n",
    "    ContextEntity(\n",
    "        crate,\n",
    "        \"U.S. Census Bureau\",\n",
    "        properties={\n",
    "            \"@type\": \"Organization\",\n",
    "            \"name\": \"U.S. Census Bureau\",\n",
    "            \"url\": \"https://www.census.gov/\"\n",
    "        },\n",
    "    )\n",
    ")"
   ]
  },
  {
   "cell_type": "code",
   "execution_count": 5,
   "id": "b4d46c34-0a33-4cac-a550-5754389c1ad4",
   "metadata": {},
   "outputs": [],
   "source": [
    "us_public_domain = crate.add(\n",
    "    ContextEntity(\n",
    "        crate,\n",
    "        \"U.S. Public Domain\",\n",
    "        properties={\n",
    "            \"@type\": \"License\",\n",
    "            \"name\": \"U.S. Public Domain\",\n",
    "            \"url\": \"http://www.usa.gov/publicdomain/label/1.0/\",\n",
    "        },\n",
    "    )\n",
    ")"
   ]
  },
  {
   "cell_type": "code",
   "execution_count": 6,
   "id": "673541cc-86e6-420a-bf40-89949f7391e6",
   "metadata": {},
   "outputs": [],
   "source": [
    "# Date Retrieved from US Census Data Portal\n",
    "date_published = date(2024, 3, 17).isoformat()"
   ]
  },
  {
   "cell_type": "code",
   "execution_count": 7,
   "id": "54e754c3-1f98-4a0e-8553-87b85fa29e2d",
   "metadata": {},
   "outputs": [],
   "source": [
    "crate.name = name\n",
    "crate.publisher = us_census_bureau\n",
    "crate.creator = us_census_bureau\n",
    "crate.license = us_public_domain\n",
    "crate.datePublished = date_published\n",
    "crate.keywords = [\"US Census\", \"US Census Block\", \"Population\", \"Ingested Data\", \"Raw\"]"
   ]
  },
  {
   "cell_type": "markdown",
   "id": "b6e88c9f-7130-424f-9429-0abbaa22d84b",
   "metadata": {},
   "source": [
    "### Dataset\n",
    "\n",
    "- source (File(s))\n",
    "- description\n",
    "- contentSize (MB, KB, or B)\n",
    "- encodingFormat (from PRONOM: https://www.nationalarchives.gov.uk/PRONOM)\n",
    "\n",
    "Contextual \n",
    "\n",
    "- encodingFormat\n",
    "    - @id PRONOM url\n",
    "    - @type Website\n",
    "    - name"
   ]
  },
  {
   "cell_type": "code",
   "execution_count": 8,
   "id": "67ffccbb-0e13-47de-84ba-70b74d4195cb",
   "metadata": {},
   "outputs": [],
   "source": [
    "encoding_format = crate.add(\n",
    "    ContextEntity(\n",
    "        crate,\n",
    "        \"https://www.nationalarchives.gov.uk/PRONOM/x-fmt/18\",\n",
    "        properties={\n",
    "            \"@type\": \"Website\",\n",
    "            \"name\": \"text/csv\",\n",
    "        },\n",
    "    )\n",
    ")"
   ]
  },
  {
   "cell_type": "code",
   "execution_count": 9,
   "id": "431ce516-dec0-4657-9655-49fd88224118",
   "metadata": {},
   "outputs": [],
   "source": [
    "# Dataset\n",
    "raw_file = crate.add (\n",
    "    File(\n",
    "        crate,\n",
    "        source=f\"file:///data/extract/{short_name}/USCensusDecennialDP2020DP1.csv\",\n",
    "        properties={\n",
    "            \"description\": \"U.S. 2020 Decennial Census for the Survey and Populations and People Zip Data for Pennsylvania\",\n",
    "            \"contentSize\": \"3.48MB\",\n",
    "            \"encodingFormat\": [encoding_format.properties()[\"name\"], {\"@id\": encoding_format.id}],\n",
    "        }\n",
    "    )\n",
    ")\n",
    "\n",
    "raw_dataset = crate.add(\n",
    "    Dataset(\n",
    "        crate,\n",
    "        source=f\"file:///data/extract/{short_name}\",\n",
    "        properties={\n",
    "            \"description\": \"U.S. 2020 Decennial Census for the Survey and Populations and People Zip Data for Pennsylvania\",\n",
    "            \"hasParts\": [\n",
    "                {\"@id\": raw_file.id},\n",
    "            ]\n",
    "        }\n",
    "    )\n",
    ")"
   ]
  },
  {
   "cell_type": "code",
   "execution_count": 10,
   "id": "0ebc2ce0-1641-4a92-a241-b33a9e17e166",
   "metadata": {},
   "outputs": [],
   "source": [
    "# Main Entry\n",
    "crate.mainEntity = raw_dataset"
   ]
  },
  {
   "cell_type": "markdown",
   "id": "e15f5849-1494-4dbd-af48-abee33c7104a",
   "metadata": {},
   "source": [
    "### Store Research Object"
   ]
  },
  {
   "cell_type": "code",
   "execution_count": 11,
   "id": "74800a79-1e8f-4ce6-ba04-a159e98123e8",
   "metadata": {},
   "outputs": [],
   "source": [
    "crate.write(f\"../../metastore/{short_name}/\")"
   ]
  },
  {
   "cell_type": "markdown",
   "id": "523e2436-7190-4900-a6ba-b491f3a500fa",
   "metadata": {},
   "source": [
    "## Confirm Usage of Crate"
   ]
  },
  {
   "cell_type": "code",
   "execution_count": 12,
   "id": "4e3692d3-af3e-4612-807e-805e51d68db0",
   "metadata": {},
   "outputs": [],
   "source": [
    "read_crate = ROCrate(f\"../metastore/{short_name}/\")"
   ]
  },
  {
   "cell_type": "code",
   "execution_count": 13,
   "id": "940a3809-1a3a-477a-8e32-9716ea2d9a24",
   "metadata": {},
   "outputs": [
    {
     "name": "stdout",
     "output_type": "stream",
     "text": [
      "./ Dataset\n",
      "ro-crate-metadata.json CreativeWork\n",
      "file:///data/extract/US2020CensusZCTA5PA/USCensusDecennialDP2020DP1.csv File\n",
      "file:///data/extract/US2020CensusZCTA5PA/ Dataset\n",
      "#U.S. Census Bureau Organization\n",
      "#U.S. Public Domain License\n",
      "https://www.nationalarchives.gov.uk/PRONOM/x-fmt/18 Website\n"
     ]
    }
   ],
   "source": [
    "for e in read_crate.get_entities():\n",
    "    print(e.id, e.type)"
   ]
  },
  {
   "cell_type": "code",
   "execution_count": 14,
   "id": "4e59b0f4-32dd-4da7-8870-0ee4d53e37fc",
   "metadata": {},
   "outputs": [
    {
     "data": {
      "text/plain": [
       "'file:///data/extract/US2020CensusZCTA5PA/'"
      ]
     },
     "execution_count": 14,
     "metadata": {},
     "output_type": "execute_result"
    }
   ],
   "source": [
    "read_crate.mainEntity.id"
   ]
  },
  {
   "cell_type": "code",
   "execution_count": 15,
   "id": "0880dc2d-0397-4a15-a2ca-328c67caa17a",
   "metadata": {},
   "outputs": [
    {
     "data": {
      "text/plain": [
       "'file:///data/extract/US2020CensusZCTA5PA/USCensusDecennialDP2020DP1.csv'"
      ]
     },
     "execution_count": 15,
     "metadata": {},
     "output_type": "execute_result"
    }
   ],
   "source": [
    "file_id = read_crate.get(read_crate.mainEntity.id).properties()[\"hasParts\"][0][\"@id\"]\n",
    "file_id"
   ]
  },
  {
   "cell_type": "code",
   "execution_count": 16,
   "id": "a9236f76-b761-46dd-94e1-65540d205608",
   "metadata": {},
   "outputs": [
    {
     "data": {
      "text/plain": [
       "{'@id': 'file:///data/extract/US2020CensusZCTA5PA/USCensusDecennialDP2020DP1.csv',\n",
       " '@type': 'File',\n",
       " 'contentSize': '3.48MB',\n",
       " 'description': 'U.S. 2020 Decennial Census for the Survey and Populations and People Zip Data for Pennsylvania',\n",
       " 'encodingFormat': ['text/csv',\n",
       "  {'@id': 'https://www.nationalarchives.gov.uk/PRONOM/x-fmt/18'}]}"
      ]
     },
     "execution_count": 16,
     "metadata": {},
     "output_type": "execute_result"
    }
   ],
   "source": [
    "read_crate.get(file_id).properties()"
   ]
  },
  {
   "cell_type": "code",
   "execution_count": 17,
   "id": "9c9e293b-162e-48dc-8feb-47ef828d353e",
   "metadata": {},
   "outputs": [
    {
     "data": {
      "text/plain": [
       "rocrate.model.file.File"
      ]
     },
     "execution_count": 17,
     "metadata": {},
     "output_type": "execute_result"
    }
   ],
   "source": [
    "read_crate.get(file_id).__class__"
   ]
  },
  {
   "cell_type": "code",
   "execution_count": 18,
   "id": "5651f461-ac5c-4f53-b71a-bf9960dc6737",
   "metadata": {},
   "outputs": [
    {
     "data": {
      "text/plain": [
       "'file:///data/extract/US2020CensusZCTA5PA/USCensusDecennialDP2020DP1.csv'"
      ]
     },
     "execution_count": 18,
     "metadata": {},
     "output_type": "execute_result"
    }
   ],
   "source": [
    "read_crate.get(file_id).source"
   ]
  },
  {
   "cell_type": "code",
   "execution_count": null,
   "id": "3de0c2a8-ed44-479a-99de-934bbbe16c51",
   "metadata": {},
   "outputs": [],
   "source": []
  }
 ],
 "metadata": {
  "kernelspec": {
   "display_name": "Python 3 (ipykernel)",
   "language": "python",
   "name": "python3"
  },
  "language_info": {
   "codemirror_mode": {
    "name": "ipython",
    "version": 3
   },
   "file_extension": ".py",
   "mimetype": "text/x-python",
   "name": "python",
   "nbconvert_exporter": "python",
   "pygments_lexer": "ipython3",
   "version": "3.12.2"
  }
 },
 "nbformat": 4,
 "nbformat_minor": 5
}
