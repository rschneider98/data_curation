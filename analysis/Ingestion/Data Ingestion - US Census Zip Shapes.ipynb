{
 "cells": [
  {
   "cell_type": "markdown",
   "id": "1e3da9b5-871c-45b3-8d6c-1d69133206a6",
   "metadata": {},
   "source": [
    "# Data Ingestion of US Census Zip Shape Data\n",
    "\n",
    "Add raw data to project and manually create metadata for the upstream source.\n",
    "\n",
    "Each dataset gets its own research object to track them individually without creating a very large, interconnected research object for the whole project."
   ]
  },
  {
   "cell_type": "markdown",
   "id": "9412c1ff-3977-4b41-96b6-2a798abaa28a",
   "metadata": {},
   "source": [
    "## Dataset Descriptions\n",
    "\n",
    "Use attributes and entities as needed\n",
    "\n",
    "- Attributes\n",
    "    - name\n",
    "    - publisher {\"@id\": \"#local_id\"} or {\"@id\": \"url\"}\n",
    "    - creater {\"@id\": \"#person\"}\n",
    "    - license\n",
    "    - datePublished\n",
    "    - keywords (ex. \"streets, aggregated features, map\")\n",
    "    - mainEntity Output Dataset \n",
    "- Data Entities\n",
    "    - File\n",
    "        - source (File(s))\n",
    "        - description\n",
    "        - contentSize (MB, KB, or B)\n",
    "        - encodingFormat (from PRONOM: https://www.nationalarchives.gov.uk/PRONOM)\n",
    "        - sha256\n",
    "    - Dataset\n",
    "        - source (File(s))\n",
    "        - description\n",
    "        - contentSize (MB, KB, or B)\n",
    "        - encodingFormat (from PRONOM: https://www.nationalarchives.gov.uk/PRONOM)\n",
    "    - ComputationalWorkflow\n",
    "        - @type (pre-defined with built-in models) [\"File\", \"SoftwareSourceCode\", \"ComputationalWorkflow\"]\n",
    "        - source (File)\n",
    "        - author\n",
    "        - programmingLanguage\n",
    "        - input [{\"@id\": \"#id1\"}, {\"@id\": \"#id2\"}]\n",
    "        - output [{\"@id\": \"#id3\"}]\n",
    "- Contextual Entities\n",
    "    - Publisher\n",
    "        - @type Organization\n",
    "        - name\n",
    "        - url\n",
    "    - Person\n",
    "        - name\n",
    "    - programmingLanguage\n",
    "        - @type [\"ComputerLanguage\", \"SoftwareApplication\"]\n",
    "        - name\n",
    "        - version\n",
    "        - url\n",
    "    - encodingFormat\n",
    "        - @id PRONOM url\n",
    "        - @type Website\n",
    "        - name\n",
    "    - input\n",
    "        - @type FormalParameter\n",
    "        - name\n",
    "        - defaultValue {\"@id\": \"#ReferenceToUpstreamDataset\"}\n",
    "        - encodingFormat\n",
    "        - valueRequired True\n",
    "    - output\n",
    "        - @type FormalParameter\n",
    "        - name\n",
    "        - defaultValue {\"@id\": \"#ReferenceToDownstreamDataset\"}\n",
    "        - encodingFormat\n",
    "        - valueRequired True"
   ]
  },
  {
   "cell_type": "code",
   "execution_count": 1,
   "id": "8c477b80-bebb-4cbf-b1c0-16c00c806d8d",
   "metadata": {},
   "outputs": [],
   "source": [
    "from datetime import date\n",
    "from rocrate.rocrate import ROCrate\n",
    "from rocrate.model import (\n",
    "    Person,\n",
    "    File,\n",
    "    Dataset,\n",
    "    ComputationalWorkflow,\n",
    "    ContextEntity,\n",
    ")"
   ]
  },
  {
   "cell_type": "code",
   "execution_count": 2,
   "id": "5ba2b4ef-734d-450c-9f3b-ea8213aec987",
   "metadata": {},
   "outputs": [],
   "source": [
    "crate = ROCrate()"
   ]
  },
  {
   "cell_type": "markdown",
   "id": "5c027e34-6fcb-4173-971e-156edd5ca2df",
   "metadata": {},
   "source": [
    "### Main Attributes\n",
    "\n",
    "- name\n",
    "- publisher {\"@id\": \"#local_id\"} or {\"@id\": \"url\"}\n",
    "- creater {\"@id\": \"#person\"}\n",
    "- license\n",
    "- datePublished\n",
    "- keywords (ex. \"streets, aggregated features, map\")\n",
    "- mainEntity Output Dataset\n",
    "\n",
    "Contextual\n",
    "\n",
    "- Publisher\n",
    "    - @type Organization\n",
    "    - name\n",
    "    - url"
   ]
  },
  {
   "cell_type": "code",
   "execution_count": 3,
   "id": "26b0adb0-6e42-4953-905d-962fb93119b5",
   "metadata": {},
   "outputs": [],
   "source": [
    "name = \"US 2020 Census ZCTA5 Geometries\"\n",
    "short_name = \"US2020CensusZCTA5Geometry\""
   ]
  },
  {
   "cell_type": "code",
   "execution_count": 4,
   "id": "2862295f-c220-4978-bd1c-f5865a9e9f21",
   "metadata": {},
   "outputs": [],
   "source": [
    "us_census_bureau = crate.add(\n",
    "    ContextEntity(\n",
    "        crate,\n",
    "        \"U.S. Census Bureau\",\n",
    "        properties={\n",
    "            \"@type\": \"Organization\",\n",
    "            \"name\": \"U.S. Census Bureau\",\n",
    "            \"url\": \"https://www.census.gov/\"\n",
    "        },\n",
    "    )\n",
    ")"
   ]
  },
  {
   "cell_type": "code",
   "execution_count": 5,
   "id": "b4d46c34-0a33-4cac-a550-5754389c1ad4",
   "metadata": {},
   "outputs": [],
   "source": [
    "us_public_domain = crate.add(\n",
    "    ContextEntity(\n",
    "        crate,\n",
    "        \"U.S. Public Domain\",\n",
    "        properties={\n",
    "            \"@type\": \"License\",\n",
    "            \"name\": \"U.S. Public Domain\",\n",
    "            \"url\": \"http://www.usa.gov/publicdomain/label/1.0/\",\n",
    "        },\n",
    "    )\n",
    ")"
   ]
  },
  {
   "cell_type": "code",
   "execution_count": 6,
   "id": "673541cc-86e6-420a-bf40-89949f7391e6",
   "metadata": {},
   "outputs": [],
   "source": [
    "date_published = date(2021, 2, 2).isoformat()"
   ]
  },
  {
   "cell_type": "code",
   "execution_count": 7,
   "id": "54e754c3-1f98-4a0e-8553-87b85fa29e2d",
   "metadata": {},
   "outputs": [],
   "source": [
    "crate.name = name\n",
    "crate.publisher = us_census_bureau\n",
    "crate.creator = us_census_bureau\n",
    "crate.license = us_public_domain\n",
    "crate.datePublished = date_published\n",
    "crate.keywords = [\"US Census\", \"US Census ZCTA5\", \"Geometry\", \"Ingested Data\", \"Raw\"]"
   ]
  },
  {
   "cell_type": "markdown",
   "id": "b6e88c9f-7130-424f-9429-0abbaa22d84b",
   "metadata": {},
   "source": [
    "### Dataset\n",
    "\n",
    "- source (File(s))\n",
    "- description\n",
    "- contentSize (MB, KB, or B)\n",
    "- encodingFormat (from PRONOM: https://www.nationalarchives.gov.uk/PRONOM)\n",
    "\n",
    "Contextual \n",
    "\n",
    "- encodingFormat\n",
    "    - @id PRONOM url\n",
    "    - @type Website\n",
    "    - name"
   ]
  },
  {
   "cell_type": "code",
   "execution_count": 8,
   "id": "67ffccbb-0e13-47de-84ba-70b74d4195cb",
   "metadata": {},
   "outputs": [],
   "source": [
    "encoding_format_shp = crate.add(\n",
    "    ContextEntity(\n",
    "        crate,\n",
    "        \"https://www.nationalarchives.gov.uk/PRONOM/x-fmt/235\",\n",
    "        properties={\n",
    "            \"@type\": \"Website\",\n",
    "            \"name\": \"ESRI Arc/View ShapeFile\",\n",
    "        },\n",
    "    )\n",
    ")"
   ]
  },
  {
   "cell_type": "code",
   "execution_count": 9,
   "id": "54029f54-598c-450c-bd2b-ec3e8ec83c4f",
   "metadata": {},
   "outputs": [],
   "source": [
    "encoding_format_shx = crate.add(\n",
    "    ContextEntity(\n",
    "        crate,\n",
    "        \"https://www.nationalarchives.gov.uk/PRONOM/fmt/277\",\n",
    "        properties={\n",
    "            \"@type\": \"Website\",\n",
    "            \"name\": \"ESRI Arc/View Shapefile Index\",\n",
    "        },\n",
    "    )\n",
    ")"
   ]
  },
  {
   "cell_type": "code",
   "execution_count": 10,
   "id": "91b2a6eb-f218-4841-956e-f8bc3913d134",
   "metadata": {},
   "outputs": [],
   "source": [
    "encoding_format_prj = crate.add(\n",
    "    ContextEntity(\n",
    "        crate,\n",
    "        \"https://www.nationalarchives.gov.uk/PRONOM/fmt/320\",\n",
    "        properties={\n",
    "            \"@type\": \"Website\",\n",
    "            \"name\": \"ESRI Shapefile Projection (Well-Known Text) Format\",\n",
    "        },\n",
    "    )\n",
    ")"
   ]
  },
  {
   "cell_type": "code",
   "execution_count": 11,
   "id": "49b2ae08-418a-4377-a7ed-7511f55c0e7a",
   "metadata": {},
   "outputs": [],
   "source": [
    "encoding_format_dbf = crate.add(\n",
    "    ContextEntity(\n",
    "        crate,\n",
    "        \"https://www.nationalarchives.gov.uk/PRONOM/x-fmt/271\",\n",
    "        properties={\n",
    "            \"@type\": \"Website\",\n",
    "            \"name\": \"dBASE Database\",\n",
    "        },\n",
    "    )\n",
    ")"
   ]
  },
  {
   "cell_type": "code",
   "execution_count": 12,
   "id": "f8195fa9-f8fd-41db-9179-ff43dcae14cd",
   "metadata": {},
   "outputs": [],
   "source": [
    "encoding_format_cpg = crate.add(\n",
    "    ContextEntity(\n",
    "        crate,\n",
    "        \"https://www.nationalarchives.gov.uk/PRONOM/fmt/1253\",\n",
    "        properties={\n",
    "            \"@type\": \"Website\",\n",
    "            \"name\": \"\tESRI Code Page File\",\n",
    "        },\n",
    "    )\n",
    ")"
   ]
  },
  {
   "cell_type": "code",
   "execution_count": 13,
   "id": "431ce516-dec0-4657-9655-49fd88224118",
   "metadata": {},
   "outputs": [],
   "source": [
    "# Dataset\n",
    "raw_file_shp = crate.add (\n",
    "    File(\n",
    "        crate,\n",
    "        source=f\"file:///data/extract/{short_name}/{short_name}.shp\",\n",
    "        properties={\n",
    "            \"contentSize\": \"800MB\",\n",
    "            \"encodingFormat\": [encoding_format_shp.properties()[\"name\"], {\"@id\": encoding_format_shp.id}],\n",
    "        }\n",
    "    )\n",
    ")\n",
    "\n",
    "raw_file_shx = crate.add (\n",
    "    File(\n",
    "        crate,\n",
    "        source=f\"file:///data/extract/{short_name}/{short_name}.shx\",\n",
    "        properties={\n",
    "            \"contentSize\": \"265KB\",\n",
    "            \"encodingFormat\": [encoding_format_shx.properties()[\"name\"], {\"@id\": encoding_format_shx.id}],\n",
    "        }\n",
    "    )\n",
    ")\n",
    "\n",
    "raw_file_dbf = crate.add (\n",
    "    File(\n",
    "        crate,\n",
    "        source=f\"file:///data/extract/{short_name}/{short_name}.dbf\",\n",
    "        properties={\n",
    "            \"contentSize\": \"2.31MB\",\n",
    "            \"encodingFormat\": [encoding_format_dbf.properties()[\"name\"], {\"@id\": encoding_format_dbf.id}],\n",
    "        }\n",
    "    )\n",
    ")\n",
    "\n",
    "raw_file_cpg = crate.add (\n",
    "    File(\n",
    "        crate,\n",
    "        source=f\"file:///data/extract/{short_name}/{short_name}.cpg\",\n",
    "        properties={\n",
    "            \"contentSize\": \"1KB\",\n",
    "            \"encodingFormat\": [encoding_format_cpg.properties()[\"name\"], {\"@id\": encoding_format_cpg.id}],\n",
    "        }\n",
    "    )\n",
    ")\n",
    "\n",
    "raw_file_prj = crate.add (\n",
    "    File(\n",
    "        crate,\n",
    "        source=f\"file:///data/extract/{short_name}/{short_name}.prj\",\n",
    "        properties={\n",
    "            \"contentSize\": \"1KB\",\n",
    "            \"encodingFormat\": [encoding_format_prj.properties()[\"name\"], {\"@id\": encoding_format_prj.id}],\n",
    "        }\n",
    "    )\n",
    ")\n",
    "\n",
    "raw_dataset = crate.add(\n",
    "    Dataset(\n",
    "        crate,\n",
    "        source=f\"file:///data/extract/{short_name}\",\n",
    "        properties={\n",
    "            \"description\": \"U.S. 2020 Decennial Census ZIP Geometries\",\n",
    "            \"sameAs\": \"https://www.census.gov/geographies/mapping-files/2020/geo/tiger-line-file.html\",\n",
    "            \"hasParts\": [\n",
    "                {\"@id\": raw_file_prj.id},\n",
    "                {\"@id\": raw_file_cpg.id},\n",
    "                {\"@id\": raw_file_shx.id},\n",
    "                {\"@id\": raw_file_shp.id},\n",
    "                {\"@id\": raw_file_dbf.id},\n",
    "            ]\n",
    "        }\n",
    "    )\n",
    ")"
   ]
  },
  {
   "cell_type": "code",
   "execution_count": 14,
   "id": "0ebc2ce0-1641-4a92-a241-b33a9e17e166",
   "metadata": {},
   "outputs": [],
   "source": [
    "# Main Entry\n",
    "crate.mainEntity = raw_dataset"
   ]
  },
  {
   "cell_type": "code",
   "execution_count": 15,
   "id": "72022f67-12b0-4427-852d-21569819a8bd",
   "metadata": {},
   "outputs": [
    {
     "data": {
      "text/plain": [
       "'file:///data/extract/US2020CensusZCTA5Geometry'"
      ]
     },
     "execution_count": 15,
     "metadata": {},
     "output_type": "execute_result"
    }
   ],
   "source": [
    "crate.mainEntity.source"
   ]
  },
  {
   "cell_type": "markdown",
   "id": "e15f5849-1494-4dbd-af48-abee33c7104a",
   "metadata": {},
   "source": [
    "### Store Research Object"
   ]
  },
  {
   "cell_type": "code",
   "execution_count": 16,
   "id": "74800a79-1e8f-4ce6-ba04-a159e98123e8",
   "metadata": {},
   "outputs": [],
   "source": [
    "crate.write(f\"../../metastore/{short_name}/\")"
   ]
  },
  {
   "cell_type": "markdown",
   "id": "523e2436-7190-4900-a6ba-b491f3a500fa",
   "metadata": {},
   "source": [
    "## Confirm Usage of Crate"
   ]
  },
  {
   "cell_type": "code",
   "execution_count": 17,
   "id": "4e3692d3-af3e-4612-807e-805e51d68db0",
   "metadata": {},
   "outputs": [],
   "source": [
    "read_crate = ROCrate(f\"../metastore/{short_name}/\")"
   ]
  },
  {
   "cell_type": "code",
   "execution_count": 18,
   "id": "940a3809-1a3a-477a-8e32-9716ea2d9a24",
   "metadata": {},
   "outputs": [
    {
     "name": "stdout",
     "output_type": "stream",
     "text": [
      "./ Dataset\n",
      "ro-crate-metadata.json CreativeWork\n",
      "file:///data/extract/US2020CensusZCTA5Geometry/US2020CensusZCTA5Geometry.shp File\n",
      "file:///data/extract/US2020CensusZCTA5Geometry/US2020CensusZCTA5Geometry.shx File\n",
      "file:///data/extract/US2020CensusZCTA5Geometry/US2020CensusZCTA5Geometry.dbf File\n",
      "file:///data/extract/US2020CensusZCTA5Geometry/US2020CensusZCTA5Geometry.cpg File\n",
      "file:///data/extract/US2020CensusZCTA5Geometry/US2020CensusZCTA5Geometry.prj File\n",
      "file:///data/extract/US2020CensusZCTA5Geometry/ Dataset\n",
      "#U.S. Census Bureau Organization\n",
      "#U.S. Public Domain License\n",
      "https://www.nationalarchives.gov.uk/PRONOM/x-fmt/235 Website\n",
      "https://www.nationalarchives.gov.uk/PRONOM/fmt/277 Website\n",
      "https://www.nationalarchives.gov.uk/PRONOM/fmt/320 Website\n",
      "https://www.nationalarchives.gov.uk/PRONOM/x-fmt/271 Website\n",
      "https://www.nationalarchives.gov.uk/PRONOM/fmt/1253 Website\n"
     ]
    }
   ],
   "source": [
    "for e in read_crate.get_entities():\n",
    "    print(e.id, e.type)"
   ]
  },
  {
   "cell_type": "code",
   "execution_count": 19,
   "id": "4e59b0f4-32dd-4da7-8870-0ee4d53e37fc",
   "metadata": {},
   "outputs": [
    {
     "data": {
      "text/plain": [
       "'file:///data/extract/US2020CensusZCTA5Geometry/'"
      ]
     },
     "execution_count": 19,
     "metadata": {},
     "output_type": "execute_result"
    }
   ],
   "source": [
    "read_crate.mainEntity.id"
   ]
  },
  {
   "cell_type": "code",
   "execution_count": 20,
   "id": "bc327197-68f3-4903-88ac-089f4c2a4206",
   "metadata": {},
   "outputs": [
    {
     "data": {
      "text/plain": [
       "'file:///data/extract/US2020CensusZCTA5Geometry/'"
      ]
     },
     "execution_count": 20,
     "metadata": {},
     "output_type": "execute_result"
    }
   ],
   "source": [
    "read_crate.get(read_crate.mainEntity.id).source"
   ]
  },
  {
   "cell_type": "code",
   "execution_count": 21,
   "id": "c07ff945-c69d-4f58-9b07-f2c0fd82c670",
   "metadata": {},
   "outputs": [
    {
     "data": {
      "text/plain": [
       "'file:///data/extract/US2020CensusZCTA5Geometry/US2020CensusZCTA5Geometry.prj'"
      ]
     },
     "execution_count": 21,
     "metadata": {},
     "output_type": "execute_result"
    }
   ],
   "source": [
    "read_crate.get(\n",
    "    read_crate.get(read_crate.mainEntity.id)\n",
    "    .properties().get(\"hasParts\", [])[0][\"@id\"]\n",
    ").source"
   ]
  },
  {
   "cell_type": "code",
   "execution_count": null,
   "id": "a7e79acd-f657-44f8-9125-3c98d4a7aab0",
   "metadata": {},
   "outputs": [],
   "source": []
  }
 ],
 "metadata": {
  "kernelspec": {
   "display_name": "Python 3 (ipykernel)",
   "language": "python",
   "name": "python3"
  },
  "language_info": {
   "codemirror_mode": {
    "name": "ipython",
    "version": 3
   },
   "file_extension": ".py",
   "mimetype": "text/x-python",
   "name": "python",
   "nbconvert_exporter": "python",
   "pygments_lexer": "ipython3",
   "version": "3.12.2"
  }
 },
 "nbformat": 4,
 "nbformat_minor": 5
}
