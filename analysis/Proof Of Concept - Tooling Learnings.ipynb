{
 "cells": [
  {
   "cell_type": "markdown",
   "id": "fc4cd871-df05-4da3-bc65-d1738a9609a2",
   "metadata": {},
   "source": [
    "# Exploration of Tools\n",
    "\n",
    "Want to be able to read in data of the various formats, process them into a consistent format, and register and manage the file's metadata"
   ]
  },
  {
   "cell_type": "markdown",
   "id": "996173cc-95f0-4509-992a-3cb9331c1545",
   "metadata": {},
   "source": [
    "# GeoJSON, H3, and Shapely"
   ]
  },
  {
   "cell_type": "code",
   "execution_count": null,
   "id": "51ddf1a7-4099-4883-9ce2-0c31f2e39d7e",
   "metadata": {},
   "outputs": [],
   "source": [
    "import geojson\n",
    "import h3\n",
    "import shapely"
   ]
  },
  {
   "cell_type": "code",
   "execution_count": 11,
   "id": "e5f0967f-34d1-4880-b73f-ad9964d65b60",
   "metadata": {},
   "outputs": [],
   "source": [
    "with open(\"../data/extract/OpenDataPhillyCompleteStreets.geojson\", \"r\") as f:\n",
    "    streets = geojson.load(f)"
   ]
  },
  {
   "cell_type": "code",
   "execution_count": 12,
   "id": "4ad243ea-e94d-41c0-979f-ecd7abef89e6",
   "metadata": {},
   "outputs": [
    {
     "data": {
      "text/plain": [
       "dict_keys(['type', 'name', 'crs', 'features'])"
      ]
     },
     "execution_count": 12,
     "metadata": {},
     "output_type": "execute_result"
    }
   ],
   "source": [
    "streets.keys()"
   ]
  },
  {
   "cell_type": "code",
   "execution_count": 17,
   "id": "276c9a5a-31e7-406f-bed6-0baa97d8dcd7",
   "metadata": {},
   "outputs": [
    {
     "data": {
      "text/plain": [
       "dict_keys(['type', 'geometry', 'properties'])"
      ]
     },
     "execution_count": 17,
     "metadata": {},
     "output_type": "execute_result"
    }
   ],
   "source": [
    "streets[\"features\"][0].keys()"
   ]
  },
  {
   "cell_type": "code",
   "execution_count": 22,
   "id": "60a256c4-7a80-48e6-83bd-798bd65071e4",
   "metadata": {},
   "outputs": [
    {
     "data": {
      "text/plain": [
       "{\"coordinates\": [[-74.984581, 40.058246], [-74.984555, 40.058212], [-74.984553, 40.058188], [-74.984557, 40.058167], [-74.984637, 40.058062], [-74.984669, 40.058033], [-74.984712, 40.057992], [-74.984771, 40.057923], [-74.98491, 40.057764], [-74.985056, 40.057604], [-74.985107, 40.057535], [-74.985195, 40.057394], [-74.9853, 40.057182], [-74.985327, 40.057113], [-74.985339, 40.057063], [-74.985341, 40.05701], [-74.985333, 40.056972], [-74.985311, 40.056931], [-74.985274, 40.056887], [-74.985181, 40.056794], [-74.985067, 40.056692], [-74.984977, 40.056606], [-74.984838, 40.05648], [-74.984793, 40.056432], [-74.984744, 40.05637], [-74.984706, 40.056309], [-74.984691, 40.056282], [-74.984645, 40.056149], [-74.984579, 40.055867], [-74.984559, 40.05577], [-74.984521, 40.055525], [-74.984514, 40.055501], [-74.984513, 40.055439]], \"type\": \"LineString\"}"
      ]
     },
     "execution_count": 22,
     "metadata": {},
     "output_type": "execute_result"
    }
   ],
   "source": [
    "streets[\"features\"][0][\"geometry\"]"
   ]
  },
  {
   "cell_type": "code",
   "execution_count": 24,
   "id": "ec5b17e1-20a7-4e4a-a9af-49b4fed7474b",
   "metadata": {},
   "outputs": [
    {
     "data": {
      "image/svg+xml": [
       "<svg xmlns=\"http://www.w3.org/2000/svg\" xmlns:xlink=\"http://www.w3.org/1999/xlink\" width=\"100.0\" height=\"100.0\" viewBox=\"-74.98545328 40.05532672 0.0010525599999908763 0.003031560000003708\" preserveAspectRatio=\"xMinYMin meet\"><g transform=\"matrix(1,0,0,-1,0,80.113685)\"><polyline fill=\"none\" stroke=\"#66cc99\" stroke-width=\"6.0631200000074156e-05\" points=\"-74.984581,40.058246 -74.984555,40.058212 -74.984553,40.058188 -74.984557,40.058167 -74.984637,40.058062 -74.984669,40.058033 -74.984712,40.057992 -74.984771,40.057923 -74.98491,40.057764 -74.985056,40.057604 -74.985107,40.057535 -74.985195,40.057394 -74.9853,40.057182 -74.985327,40.057113 -74.985339,40.057063 -74.985341,40.05701 -74.985333,40.056972 -74.985311,40.056931 -74.985274,40.056887 -74.985181,40.056794 -74.985067,40.056692 -74.984977,40.056606 -74.984838,40.05648 -74.984793,40.056432 -74.984744,40.05637 -74.984706,40.056309 -74.984691,40.056282 -74.984645,40.056149 -74.984579,40.055867 -74.984559,40.05577 -74.984521,40.055525 -74.984514,40.055501 -74.984513,40.055439\" opacity=\"0.8\" /></g></svg>"
      ],
      "text/plain": [
       "<LINESTRING (-74.985 40.058, -74.985 40.058, -74.985 40.058, -74.985 40.058,...>"
      ]
     },
     "execution_count": 24,
     "metadata": {},
     "output_type": "execute_result"
    }
   ],
   "source": [
    "shapely.geometry.shape(streets[\"features\"][0][\"geometry\"])"
   ]
  },
  {
   "cell_type": "code",
   "execution_count": 31,
   "id": "35df8d0b-ad02-4f32-b7e4-94fa44381273",
   "metadata": {},
   "outputs": [
    {
     "data": {
      "text/plain": [
       "(-74.984581, 40.058246)"
      ]
     },
     "execution_count": 31,
     "metadata": {},
     "output_type": "execute_result"
    }
   ],
   "source": [
    "longitude, latitude = streets[\"features\"][0][\"geometry\"][\"coordinates\"][0]\n",
    "longitude, latitude"
   ]
  },
  {
   "cell_type": "code",
   "execution_count": 52,
   "id": "1ce4dc1c-caf7-4a94-8d59-83dbb135d9e2",
   "metadata": {},
   "outputs": [
    {
     "data": {
      "text/plain": [
       "'832a13fffffffff'"
      ]
     },
     "execution_count": 52,
     "metadata": {},
     "output_type": "execute_result"
    }
   ],
   "source": [
    "h3.geo_to_h3(latitude, longitude, 3)"
   ]
  },
  {
   "cell_type": "code",
   "execution_count": 59,
   "id": "76b9fa2e-ba87-4940-ac00-229e17d610e6",
   "metadata": {
    "scrolled": true
   },
   "outputs": [
    {
     "name": "stdout",
     "output_type": "stream",
     "text": [
      "8e2a13404665837\n",
      "8e2a1340466580f\n",
      "8e2a13404665857\n",
      "8e2a1340466585f\n",
      "8e2a13404665a9f\n",
      "8e2a13404665317\n",
      "8e2a1340466538f\n",
      "8e2a134046652d7\n",
      "8e2a13404661167\n",
      "8e2a134046612b7\n",
      "8e2a1340466e937\n",
      "8e2a1340466e8df\n",
      "8e2a1340466e2af\n",
      "8e2a1340466a977\n",
      "8e2a1340466a95f\n",
      "8e2a1340466a84f\n",
      "8e2a1340466ab1f\n",
      "8e2a1340466ab57\n",
      "8e2a1340466aa67\n",
      "8e2a134046686cf\n",
      "8e2a1340466b80f\n",
      "8e2a1340466bb2f\n",
      "8e2a134046696e7\n",
      "8e2a134009369a7\n",
      "8e2a13400936827\n",
      "8e2a13400936847\n",
      "8e2a1340093684f\n",
      "8e2a13400936a67\n",
      "8e2a1340093002f\n",
      "8e2a134009303af\n",
      "8e2a134009314e7\n",
      "8e2a134009314ef\n",
      "8e2a1340093179f\n"
     ]
    }
   ],
   "source": [
    "for longitude, latitude in streets[\"features\"][0][\"geometry\"][\"coordinates\"]:\n",
    "    print(h3.geo_to_h3(latitude, longitude, 15))"
   ]
  },
  {
   "cell_type": "code",
   "execution_count": 86,
   "id": "b31cc2d7-4f89-4d09-972d-0e1529c52f36",
   "metadata": {
    "scrolled": true
   },
   "outputs": [
    {
     "data": {
      "text/plain": [
       "{'coordinates': [[[-74.984581, 40.058246],\n",
       "   [-74.984555, 40.058212],\n",
       "   [-74.984553, 40.058188],\n",
       "   [-74.984557, 40.058167],\n",
       "   [-74.984637, 40.058062],\n",
       "   [-74.984669, 40.058033],\n",
       "   [-74.984712, 40.057992],\n",
       "   [-74.984771, 40.057923],\n",
       "   [-74.98491, 40.057764],\n",
       "   [-74.985056, 40.057604],\n",
       "   [-74.985107, 40.057535],\n",
       "   [-74.985195, 40.057394],\n",
       "   [-74.9853, 40.057182],\n",
       "   [-74.985327, 40.057113],\n",
       "   [-74.985339, 40.057063],\n",
       "   [-74.985341, 40.05701],\n",
       "   [-74.985333, 40.056972],\n",
       "   [-74.985311, 40.056931],\n",
       "   [-74.985274, 40.056887],\n",
       "   [-74.985181, 40.056794],\n",
       "   [-74.985067, 40.056692],\n",
       "   [-74.984977, 40.056606],\n",
       "   [-74.984838, 40.05648],\n",
       "   [-74.984793, 40.056432],\n",
       "   [-74.984744, 40.05637],\n",
       "   [-74.984706, 40.056309],\n",
       "   [-74.984691, 40.056282],\n",
       "   [-74.984645, 40.056149],\n",
       "   [-74.984579, 40.055867],\n",
       "   [-74.984559, 40.05577],\n",
       "   [-74.984521, 40.055525],\n",
       "   [-74.984514, 40.055501],\n",
       "   [-74.984513, 40.055439]]],\n",
       " 'type': 'MultiPolygon'}"
      ]
     },
     "execution_count": 86,
     "metadata": {},
     "output_type": "execute_result"
    }
   ],
   "source": [
    "new_geom = {\"coordinates\": [streets[\"features\"][0][\"geometry\"][\"coordinates\"]], \"type\": \"MultiPolygon\"}\n",
    "new_geom"
   ]
  },
  {
   "cell_type": "code",
   "execution_count": 20,
   "id": "18d7d323-4736-4f02-b246-bec824a6b616",
   "metadata": {},
   "outputs": [
    {
     "data": {
      "text/plain": [
       "{'OBJECTID': 1,\n",
       " 'FNODE': 12545,\n",
       " 'TNODE': 23746,\n",
       " 'LENGTH': 2781.74981192,\n",
       " 'STCL2': 35640,\n",
       " 'STCL2_ID': 5743,\n",
       " 'PRE_DIR': None,\n",
       " 'ST_NAME': 'STEVENSON',\n",
       " 'ST_TYPE': 'ST',\n",
       " 'SEG_ID': 880652,\n",
       " 'ONEWAY': 'B',\n",
       " 'CLASS': 5,\n",
       " 'STNAME': 'STEVENSON ST',\n",
       " 'CLASS1': 'Local Residential',\n",
       " 'SPEEDLIM': '25',\n",
       " 'RECSIGN': None,\n",
       " 'SURFAWIDTH': 0,\n",
       " 'RECFACIL': None,\n",
       " 'PARKING': 'Z',\n",
       " 'BIKENETWOR': None,\n",
       " 'LENGTH_MIL': 0.21746331,\n",
       " 'PHASE2_SID': None,\n",
       " 'SIDEWALK_I': 0,\n",
       " 'COMBINED_S': 'Local (Catch All)',\n",
       " 'STREET_TYP': 'Local (Catch All)',\n",
       " 'SIDEWLK_WD': 'Greater than or equal to 10 feet',\n",
       " 'WLK_ZN': 'Greater than or equal to 5 feet',\n",
       " 'Shape__Length': 458.056118811198}"
      ]
     },
     "execution_count": 20,
     "metadata": {},
     "output_type": "execute_result"
    }
   ],
   "source": [
    "streets[\"features\"][0][\"properties\"]"
   ]
  },
  {
   "cell_type": "markdown",
   "id": "ca87d099-589a-435a-af12-d522ce9c5e5c",
   "metadata": {},
   "source": [
    "# Shapefile (Fiona), H3, and Shapely"
   ]
  },
  {
   "cell_type": "code",
   "execution_count": 60,
   "id": "b7dbc733-ae24-41e7-a571-c02e882318d6",
   "metadata": {},
   "outputs": [],
   "source": [
    "import fiona\n",
    "import h3\n",
    "import shapely"
   ]
  },
  {
   "cell_type": "code",
   "execution_count": 115,
   "id": "852ca130-61cf-4811-80c7-e8d2ebfcdd9e",
   "metadata": {},
   "outputs": [],
   "source": [
    "src = fiona.open(\"../data/extract/tl_2023_42_tabblock20/tl_2023_42_tabblock20.shp\") "
   ]
  },
  {
   "cell_type": "code",
   "execution_count": 114,
   "id": "7c6b04b2-e8d2-45be-8df8-cb4c7f0a62aa",
   "metadata": {},
   "outputs": [
    {
     "name": "stdout",
     "output_type": "stream",
     "text": [
      "{'properties': {'STATEFP20': 'str:2', 'COUNTYFP20': 'str:3', 'TRACTCE20': 'str:6', 'BLOCKCE20': 'str:4', 'GEOID20': 'str:15', 'GEOIDFQ20': 'str:24', 'NAME20': 'str:10', 'MTFCC20': 'str:5', 'UR20': 'str:5', 'UACE20': 'str:5', 'FUNCSTAT20': 'str:1', 'ALAND20': 'int:14', 'AWATER20': 'int:14', 'INTPTLAT20': 'str:11', 'INTPTLON20': 'str:12', 'HOUSING20': 'int:12', 'POP20': 'int:12'}, 'geometry': 'Polygon'}\n"
     ]
    }
   ],
   "source": [
    "print(src.schema)"
   ]
  },
  {
   "cell_type": "code",
   "execution_count": 64,
   "id": "7d55383f-0b60-4d42-901d-9b0117a31275",
   "metadata": {},
   "outputs": [
    {
     "name": "stdout",
     "output_type": "stream",
     "text": [
      "EPSG:4269\n"
     ]
    }
   ],
   "source": [
    "print(src.crs)"
   ]
  },
  {
   "cell_type": "code",
   "execution_count": 112,
   "id": "f4889080-4c25-4766-bce7-b59af651ff63",
   "metadata": {},
   "outputs": [
    {
     "data": {
      "text/plain": [
       "{'STATEFP20': '42',\n",
       " 'COUNTYFP20': '041',\n",
       " 'TRACTCE20': '012600',\n",
       " 'BLOCKCE20': '1031',\n",
       " 'GEOID20': '420410126001031',\n",
       " 'GEOIDFQ20': '1010000US420410126001031',\n",
       " 'NAME20': 'Block1031',\n",
       " 'MTFCC20': 'G5040',\n",
       " 'UR20': 'R',\n",
       " 'UACE20': None,\n",
       " 'FUNCSTAT20': 'S',\n",
       " 'ALAND20': 0,\n",
       " 'AWATER20': 1680,\n",
       " 'INTPTLAT20': '+40.1236816',\n",
       " 'INTPTLON20': '-077.1798069',\n",
       " 'HOUSING20': 0,\n",
       " 'POP20': 0}"
      ]
     },
     "execution_count": 112,
     "metadata": {},
     "output_type": "execute_result"
    }
   ],
   "source": [
    "dict(src[0].properties)"
   ]
  },
  {
   "cell_type": "code",
   "execution_count": 79,
   "id": "aa5505f9-f843-4cc6-b192-fb6f8194880f",
   "metadata": {},
   "outputs": [
    {
     "data": {
      "text/plain": [
       "[[(-77.180082, 40.123845),\n",
       "  (-77.179991, 40.123866),\n",
       "  (-77.179924, 40.123864),\n",
       "  (-77.179711, 40.12388),\n",
       "  (-77.179623, 40.12387),\n",
       "  (-77.179585, 40.123861),\n",
       "  (-77.179555, 40.123845),\n",
       "  (-77.17954, 40.123813),\n",
       "  (-77.179536, 40.123767),\n",
       "  (-77.179561, 40.123695),\n",
       "  (-77.179598, 40.123638),\n",
       "  (-77.179627, 40.123595),\n",
       "  (-77.179729, 40.123459),\n",
       "  (-77.179761, 40.123425),\n",
       "  (-77.179803, 40.123401),\n",
       "  (-77.179874, 40.123376),\n",
       "  (-77.180105, 40.123844),\n",
       "  (-77.180082, 40.123845)]]"
      ]
     },
     "execution_count": 79,
     "metadata": {},
     "output_type": "execute_result"
    }
   ],
   "source": [
    "src[0].geometry.coordinates"
   ]
  },
  {
   "cell_type": "code",
   "execution_count": 70,
   "id": "6e88dafe-b7cc-493b-b35b-57420885d2b4",
   "metadata": {},
   "outputs": [],
   "source": [
    "geom = src[0].geometry"
   ]
  },
  {
   "cell_type": "code",
   "execution_count": 104,
   "id": "40802162-8157-4b4b-9114-472d3659b181",
   "metadata": {},
   "outputs": [
    {
     "data": {
      "text/plain": [
       "'Polygon'"
      ]
     },
     "execution_count": 104,
     "metadata": {},
     "output_type": "execute_result"
    }
   ],
   "source": [
    "geom.type"
   ]
  },
  {
   "cell_type": "code",
   "execution_count": 73,
   "id": "53ce782e-f7a0-4cf2-bea5-23855027a2de",
   "metadata": {},
   "outputs": [
    {
     "data": {
      "text/plain": [
       "[(-77.180082, 40.123845),\n",
       " (-77.179991, 40.123866),\n",
       " (-77.179924, 40.123864),\n",
       " (-77.179711, 40.12388),\n",
       " (-77.179623, 40.12387),\n",
       " (-77.179585, 40.123861),\n",
       " (-77.179555, 40.123845),\n",
       " (-77.17954, 40.123813),\n",
       " (-77.179536, 40.123767),\n",
       " (-77.179561, 40.123695),\n",
       " (-77.179598, 40.123638),\n",
       " (-77.179627, 40.123595),\n",
       " (-77.179729, 40.123459),\n",
       " (-77.179761, 40.123425),\n",
       " (-77.179803, 40.123401),\n",
       " (-77.179874, 40.123376),\n",
       " (-77.180105, 40.123844),\n",
       " (-77.180082, 40.123845)]"
      ]
     },
     "execution_count": 73,
     "metadata": {},
     "output_type": "execute_result"
    }
   ],
   "source": [
    "geom.coordinates[0]"
   ]
  },
  {
   "cell_type": "code",
   "execution_count": 100,
   "id": "62ab4082-2bd2-40f9-9929-c47f800d6af3",
   "metadata": {},
   "outputs": [],
   "source": [
    "polygon = {\n",
    "    \"type\": \"Polygon\",    \n",
    "    \"coordinates\": [\n",
    "        [\n",
    "            [37.813318999983238, -122.4089866999972145],\n",
    "            [37.7198061999978478, -122.3544736999993603],\n",
    "            [37.8151571999998453, -122.4798767000009008],\n",
    "            [37.813318999983238, -122.4089866999972145],\n",
    "        ]\n",
    "    ]\n",
    "}"
   ]
  },
  {
   "cell_type": "code",
   "execution_count": 101,
   "id": "d2704245-ec54-4b16-926c-3f211a77b482",
   "metadata": {},
   "outputs": [
    {
     "data": {
      "image/svg+xml": [
       "<svg xmlns=\"http://www.w3.org/2000/svg\" xmlns:xlink=\"http://www.w3.org/1999/xlink\" width=\"100.0\" height=\"100.0\" viewBox=\"37.71479007999778 -122.48489282000097 0.1053832400021264 0.1354352400016694\" preserveAspectRatio=\"xMinYMin meet\"><g transform=\"matrix(1,0,0,-1,0,-244.83435040000026)\"><path fill-rule=\"evenodd\" fill=\"#66cc99\" stroke=\"#555555\" stroke-width=\"0.0027087048000333878\" opacity=\"0.6\" d=\"M 37.81331899998324,-122.40898669999721 L 37.71980619999785,-122.35447369999936 L 37.815157199999845,-122.4798767000009 L 37.81331899998324,-122.40898669999721 z\" /></g></svg>"
      ],
      "text/plain": [
       "<POLYGON ((37.813 -122.409, 37.72 -122.354, 37.815 -122.48, 37.813 -122.409))>"
      ]
     },
     "execution_count": 101,
     "metadata": {},
     "output_type": "execute_result"
    }
   ],
   "source": [
    "shapely.geometry.shape(polygon)"
   ]
  },
  {
   "cell_type": "code",
   "execution_count": 102,
   "id": "ba9591df-d1a3-4177-8d31-d9687af9af8a",
   "metadata": {},
   "outputs": [
    {
     "data": {
      "text/plain": [
       "{'872830820ffffff',\n",
       " '872830828ffffff',\n",
       " '87283082affffff',\n",
       " '87283082bffffff',\n",
       " '87283082effffff',\n",
       " '872830870ffffff',\n",
       " '872830876ffffff'}"
      ]
     },
     "execution_count": 102,
     "metadata": {},
     "output_type": "execute_result"
    }
   ],
   "source": [
    "h3.polyfill(polygon, 7)"
   ]
  },
  {
   "cell_type": "code",
   "execution_count": 106,
   "id": "ec508505-c3b4-4963-89b3-f463a9faabb7",
   "metadata": {},
   "outputs": [
    {
     "data": {
      "text/plain": [
       "{'coordinates': [[(-77.180082, 40.123845),\n",
       "   (-77.179991, 40.123866),\n",
       "   (-77.179924, 40.123864),\n",
       "   (-77.179711, 40.12388),\n",
       "   (-77.179623, 40.12387),\n",
       "   (-77.179585, 40.123861),\n",
       "   (-77.179555, 40.123845),\n",
       "   (-77.17954, 40.123813),\n",
       "   (-77.179536, 40.123767),\n",
       "   (-77.179561, 40.123695),\n",
       "   (-77.179598, 40.123638),\n",
       "   (-77.179627, 40.123595),\n",
       "   (-77.179729, 40.123459),\n",
       "   (-77.179761, 40.123425),\n",
       "   (-77.179803, 40.123401),\n",
       "   (-77.179874, 40.123376),\n",
       "   (-77.180105, 40.123844),\n",
       "   (-77.180082, 40.123845)]],\n",
       " 'type': 'Polygon',\n",
       " 'geometries': None}"
      ]
     },
     "execution_count": 106,
     "metadata": {},
     "output_type": "execute_result"
    }
   ],
   "source": [
    "dict(geom)"
   ]
  },
  {
   "cell_type": "code",
   "execution_count": 108,
   "id": "9bfd4482-2c5a-4c9c-bb44-c7bd89594653",
   "metadata": {},
   "outputs": [
    {
     "data": {
      "image/svg+xml": [
       "<svg xmlns=\"http://www.w3.org/2000/svg\" xmlns:xlink=\"http://www.w3.org/1999/xlink\" width=\"100.0\" height=\"100.0\" viewBox=\"-77.18012775999999 40.12335324 0.0006145199999849638 0.000549519999999859\" preserveAspectRatio=\"xMinYMin meet\"><g transform=\"matrix(1,0,0,-1,0,80.247256)\"><path fill-rule=\"evenodd\" fill=\"#66cc99\" stroke=\"#555555\" stroke-width=\"1.2290399999699275e-05\" opacity=\"0.6\" d=\"M -77.180082,40.123845 L -77.179991,40.123866 L -77.179924,40.123864 L -77.179711,40.12388 L -77.179623,40.12387 L -77.179585,40.123861 L -77.179555,40.123845 L -77.17954,40.123813 L -77.179536,40.123767 L -77.179561,40.123695 L -77.179598,40.123638 L -77.179627,40.123595 L -77.179729,40.123459 L -77.179761,40.123425 L -77.179803,40.123401 L -77.179874,40.123376 L -77.180105,40.123844 L -77.180082,40.123845 z\" /></g></svg>"
      ],
      "text/plain": [
       "<POLYGON ((-77.18 40.124, -77.18 40.124, -77.18 40.124, -77.18 40.124, -77.1...>"
      ]
     },
     "execution_count": 108,
     "metadata": {},
     "output_type": "execute_result"
    }
   ],
   "source": [
    "shapely.geometry.shape(dict(geom))"
   ]
  },
  {
   "cell_type": "code",
   "execution_count": 107,
   "id": "0100d9e1-231d-4e4c-958c-e83b64dc536b",
   "metadata": {
    "scrolled": true
   },
   "outputs": [
    {
     "data": {
      "text/plain": [
       "{'8ff046658940400',\n",
       " '8ff046658940402',\n",
       " '8ff046658940403',\n",
       " '8ff046658940404',\n",
       " '8ff046658940406',\n",
       " '8ff04665894040a',\n",
       " '8ff04665894040e',\n",
       " '8ff046658940410',\n",
       " '8ff046658940411',\n",
       " '8ff046658940412',\n",
       " '8ff046658940413',\n",
       " '8ff046658940414',\n",
       " '8ff046658940415',\n",
       " '8ff046658940416',\n",
       " '8ff046658940418',\n",
       " '8ff046658940419',\n",
       " '8ff04665894041a',\n",
       " '8ff04665894041b',\n",
       " '8ff04665894041c',\n",
       " '8ff04665894041d',\n",
       " '8ff04665894041e',\n",
       " '8ff046658940430',\n",
       " '8ff046658940431',\n",
       " '8ff046658940432',\n",
       " '8ff046658940433',\n",
       " '8ff046658940434',\n",
       " '8ff046658940435',\n",
       " '8ff046658940436',\n",
       " '8ff046658940480',\n",
       " '8ff046658940481',\n",
       " '8ff046658940482',\n",
       " '8ff046658940483',\n",
       " '8ff046658940484',\n",
       " '8ff046658940485',\n",
       " '8ff046658940486',\n",
       " '8ff046658940488',\n",
       " '8ff046658940489',\n",
       " '8ff04665894048a',\n",
       " '8ff04665894048b',\n",
       " '8ff04665894048c',\n",
       " '8ff04665894048d',\n",
       " '8ff04665894048e',\n",
       " '8ff046658940490',\n",
       " '8ff046658940491',\n",
       " '8ff046658940493',\n",
       " '8ff046658940494',\n",
       " '8ff046658940495',\n",
       " '8ff046658940498',\n",
       " '8ff046658940499',\n",
       " '8ff04665894049a',\n",
       " '8ff04665894049b',\n",
       " '8ff04665894049c',\n",
       " '8ff04665894049d',\n",
       " '8ff04665894049e',\n",
       " '8ff0466589404a0',\n",
       " '8ff0466589404a1',\n",
       " '8ff0466589404a2',\n",
       " '8ff0466589404a3',\n",
       " '8ff0466589404a4',\n",
       " '8ff0466589404a5',\n",
       " '8ff0466589404a6',\n",
       " '8ff0466589404a8',\n",
       " '8ff0466589404a9',\n",
       " '8ff0466589404aa',\n",
       " '8ff0466589404ab',\n",
       " '8ff0466589404ac',\n",
       " '8ff0466589404ad',\n",
       " '8ff0466589404ae',\n",
       " '8ff0466589404b0',\n",
       " '8ff0466589404b1',\n",
       " '8ff0466589404b2',\n",
       " '8ff0466589404b3',\n",
       " '8ff0466589404b4',\n",
       " '8ff0466589404b5',\n",
       " '8ff0466589404b6',\n",
       " '8ff0466589404c0',\n",
       " '8ff0466589404c1',\n",
       " '8ff0466589404c2',\n",
       " '8ff0466589404c3',\n",
       " '8ff0466589404c4',\n",
       " '8ff0466589404c5',\n",
       " '8ff0466589404c6',\n",
       " '8ff0466589404ca',\n",
       " '8ff0466589404cc',\n",
       " '8ff0466589404ce',\n",
       " '8ff0466589404d0',\n",
       " '8ff0466589404d1',\n",
       " '8ff0466589404d2',\n",
       " '8ff0466589404d3',\n",
       " '8ff0466589404d4',\n",
       " '8ff0466589404d5',\n",
       " '8ff0466589404d6',\n",
       " '8ff0466589404d8',\n",
       " '8ff0466589404d9',\n",
       " '8ff0466589404da',\n",
       " '8ff0466589404db',\n",
       " '8ff0466589404dc',\n",
       " '8ff0466589404dd',\n",
       " '8ff0466589404de',\n",
       " '8ff0466589404e0',\n",
       " '8ff0466589404e1',\n",
       " '8ff0466589404e2',\n",
       " '8ff0466589404e3',\n",
       " '8ff0466589404e4',\n",
       " '8ff0466589404e5',\n",
       " '8ff0466589404e6',\n",
       " '8ff0466589404ea',\n",
       " '8ff0466589404ee',\n",
       " '8ff0466589404f0',\n",
       " '8ff0466589404f1',\n",
       " '8ff0466589404f2',\n",
       " '8ff0466589404f3',\n",
       " '8ff0466589404f4',\n",
       " '8ff0466589404f5',\n",
       " '8ff0466589404f6',\n",
       " '8ff046658940510',\n",
       " '8ff046658940512',\n",
       " '8ff046658940513',\n",
       " '8ff046658940514',\n",
       " '8ff046658940516',\n",
       " '8ff04665894051a',\n",
       " '8ff04665894051e',\n",
       " '8ff046658940580',\n",
       " '8ff046658940581',\n",
       " '8ff046658940582',\n",
       " '8ff046658940583',\n",
       " '8ff046658940584',\n",
       " '8ff046658940585',\n",
       " '8ff046658940586',\n",
       " '8ff046658940588',\n",
       " '8ff046658940589',\n",
       " '8ff04665894058a',\n",
       " '8ff04665894058b',\n",
       " '8ff04665894058c',\n",
       " '8ff04665894058d',\n",
       " '8ff04665894058e',\n",
       " '8ff046658940590',\n",
       " '8ff046658940591',\n",
       " '8ff046658940593',\n",
       " '8ff046658940594',\n",
       " '8ff046658940595',\n",
       " '8ff046658940598',\n",
       " '8ff046658940599',\n",
       " '8ff04665894059a',\n",
       " '8ff04665894059b',\n",
       " '8ff04665894059c',\n",
       " '8ff04665894059d',\n",
       " '8ff04665894059e',\n",
       " '8ff0466589405a0',\n",
       " '8ff0466589405a1',\n",
       " '8ff0466589405a2',\n",
       " '8ff0466589405a3',\n",
       " '8ff0466589405a4',\n",
       " '8ff0466589405a5',\n",
       " '8ff0466589405a6',\n",
       " '8ff0466589405a8',\n",
       " '8ff0466589405a9',\n",
       " '8ff0466589405aa',\n",
       " '8ff0466589405ab',\n",
       " '8ff0466589405ac',\n",
       " '8ff0466589405ad',\n",
       " '8ff0466589405ae',\n",
       " '8ff0466589405b0',\n",
       " '8ff0466589405b1',\n",
       " '8ff0466589405b2',\n",
       " '8ff0466589405b3',\n",
       " '8ff0466589405b4',\n",
       " '8ff0466589405b5',\n",
       " '8ff0466589405b6',\n",
       " '8ff046658942208',\n",
       " '8ff046658942209',\n",
       " '8ff04665894220b',\n",
       " '8ff04665894220c',\n",
       " '8ff04665894220d',\n",
       " '8ff046658942221',\n",
       " '8ff046658942225',\n",
       " '8ff046658942228',\n",
       " '8ff046658942229',\n",
       " '8ff04665894222a',\n",
       " '8ff04665894222b',\n",
       " '8ff04665894222c',\n",
       " '8ff04665894222d',\n",
       " '8ff04665894222e',\n",
       " '8ff046658942250',\n",
       " '8ff046658942252',\n",
       " '8ff046658942254',\n",
       " '8ff046658942256',\n",
       " '8ff046658942270',\n",
       " '8ff046658942272',\n",
       " '8ff046658942273',\n",
       " '8ff046658942274',\n",
       " '8ff046658942275',\n",
       " '8ff046658942276',\n",
       " '8ff0466589422e5',\n",
       " '8ff046658942308',\n",
       " '8ff046658942309',\n",
       " '8ff04665894230b',\n",
       " '8ff04665894230c',\n",
       " '8ff04665894230d',\n",
       " '8ff046658942321',\n",
       " '8ff046658942325',\n",
       " '8ff046658942328',\n",
       " '8ff046658942329',\n",
       " '8ff04665894232a',\n",
       " '8ff04665894232b',\n",
       " '8ff04665894232c',\n",
       " '8ff04665894232d',\n",
       " '8ff04665894232e',\n",
       " '8ff046658942340',\n",
       " '8ff046658942341',\n",
       " '8ff046658942342',\n",
       " '8ff046658942343',\n",
       " '8ff046658942344',\n",
       " '8ff046658942345',\n",
       " '8ff046658942346',\n",
       " '8ff046658942350',\n",
       " '8ff046658942351',\n",
       " '8ff046658942352',\n",
       " '8ff046658942353',\n",
       " '8ff046658942354',\n",
       " '8ff046658942355',\n",
       " '8ff046658942356',\n",
       " '8ff046658942358',\n",
       " '8ff04665894235a',\n",
       " '8ff04665894235b',\n",
       " '8ff04665894235c',\n",
       " '8ff04665894235d',\n",
       " '8ff04665894235e',\n",
       " '8ff046658942360',\n",
       " '8ff046658942361',\n",
       " '8ff046658942362',\n",
       " '8ff046658942363',\n",
       " '8ff046658942364',\n",
       " '8ff046658942365',\n",
       " '8ff046658942366',\n",
       " '8ff046658942370',\n",
       " '8ff046658942371',\n",
       " '8ff046658942372',\n",
       " '8ff046658942373',\n",
       " '8ff046658942374',\n",
       " '8ff046658942375',\n",
       " '8ff046658942376',\n",
       " '8ff046658942849',\n",
       " '8ff04665894284d',\n",
       " '8ff046658942868',\n",
       " '8ff046658942869',\n",
       " '8ff04665894286b',\n",
       " '8ff04665894286c',\n",
       " '8ff04665894286d',\n",
       " '8ff046658942969',\n",
       " '8ff04665894296d',\n",
       " '8ff046658942a00',\n",
       " '8ff046658942a01',\n",
       " '8ff046658942a02',\n",
       " '8ff046658942a03',\n",
       " '8ff046658942a04',\n",
       " '8ff046658942a05',\n",
       " '8ff046658942a06',\n",
       " '8ff046658942a08',\n",
       " '8ff046658942a09',\n",
       " '8ff046658942a0a',\n",
       " '8ff046658942a0b',\n",
       " '8ff046658942a0c',\n",
       " '8ff046658942a0d',\n",
       " '8ff046658942a0e',\n",
       " '8ff046658942a10',\n",
       " '8ff046658942a11',\n",
       " '8ff046658942a12',\n",
       " '8ff046658942a13',\n",
       " '8ff046658942a14',\n",
       " '8ff046658942a15',\n",
       " '8ff046658942a16',\n",
       " '8ff046658942a18',\n",
       " '8ff046658942a19',\n",
       " '8ff046658942a1a',\n",
       " '8ff046658942a1b',\n",
       " '8ff046658942a1c',\n",
       " '8ff046658942a1d',\n",
       " '8ff046658942a1e',\n",
       " '8ff046658942a20',\n",
       " '8ff046658942a21',\n",
       " '8ff046658942a22',\n",
       " '8ff046658942a23',\n",
       " '8ff046658942a24',\n",
       " '8ff046658942a25',\n",
       " '8ff046658942a26',\n",
       " '8ff046658942a28',\n",
       " '8ff046658942a29',\n",
       " '8ff046658942a2a',\n",
       " '8ff046658942a2b',\n",
       " '8ff046658942a2c',\n",
       " '8ff046658942a2d',\n",
       " '8ff046658942a2e',\n",
       " '8ff046658942a30',\n",
       " '8ff046658942a31',\n",
       " '8ff046658942a32',\n",
       " '8ff046658942a33',\n",
       " '8ff046658942a34',\n",
       " '8ff046658942a35',\n",
       " '8ff046658942a36',\n",
       " '8ff046658942a50',\n",
       " '8ff046658942a51',\n",
       " '8ff046658942a52',\n",
       " '8ff046658942a53',\n",
       " '8ff046658942a54',\n",
       " '8ff046658942a55',\n",
       " '8ff046658942a56',\n",
       " '8ff046658942a70',\n",
       " '8ff046658942a71',\n",
       " '8ff046658942a72',\n",
       " '8ff046658942a73',\n",
       " '8ff046658942a74',\n",
       " '8ff046658942a75',\n",
       " '8ff046658942a76',\n",
       " '8ff046658942a88',\n",
       " '8ff046658942a89',\n",
       " '8ff046658942a8b',\n",
       " '8ff046658942a8c',\n",
       " '8ff046658942a8d',\n",
       " '8ff046658942aa1',\n",
       " '8ff046658942aa5',\n",
       " '8ff046658942aa8',\n",
       " '8ff046658942aa9',\n",
       " '8ff046658942aaa',\n",
       " '8ff046658942aab',\n",
       " '8ff046658942aac',\n",
       " '8ff046658942aad',\n",
       " '8ff046658942aae',\n",
       " '8ff046658942ac0',\n",
       " '8ff046658942ac1',\n",
       " '8ff046658942ac2',\n",
       " '8ff046658942ac3',\n",
       " '8ff046658942ac4',\n",
       " '8ff046658942ac5',\n",
       " '8ff046658942ac6',\n",
       " '8ff046658942ac8',\n",
       " '8ff046658942ac9',\n",
       " '8ff046658942aca',\n",
       " '8ff046658942acb',\n",
       " '8ff046658942acc',\n",
       " '8ff046658942acd',\n",
       " '8ff046658942ace',\n",
       " '8ff046658942ad0',\n",
       " '8ff046658942ad1',\n",
       " '8ff046658942ad2',\n",
       " '8ff046658942ad3',\n",
       " '8ff046658942ad4',\n",
       " '8ff046658942ad5',\n",
       " '8ff046658942ad6',\n",
       " '8ff046658942ad8',\n",
       " '8ff046658942ad9',\n",
       " '8ff046658942ada',\n",
       " '8ff046658942adb',\n",
       " '8ff046658942adc',\n",
       " '8ff046658942add',\n",
       " '8ff046658942ade',\n",
       " '8ff046658942ae0',\n",
       " '8ff046658942ae1',\n",
       " '8ff046658942ae2',\n",
       " '8ff046658942ae3',\n",
       " '8ff046658942ae4',\n",
       " '8ff046658942ae5',\n",
       " '8ff046658942ae6',\n",
       " '8ff046658942ae8',\n",
       " '8ff046658942ae9',\n",
       " '8ff046658942aea',\n",
       " '8ff046658942aeb',\n",
       " '8ff046658942aec',\n",
       " '8ff046658942aed',\n",
       " '8ff046658942aee',\n",
       " '8ff046658942af0',\n",
       " '8ff046658942af1',\n",
       " '8ff046658942af2',\n",
       " '8ff046658942af3',\n",
       " '8ff046658942af4',\n",
       " '8ff046658942af5',\n",
       " '8ff046658942af6',\n",
       " '8ff046658942b00',\n",
       " '8ff046658942b01',\n",
       " '8ff046658942b02',\n",
       " '8ff046658942b03',\n",
       " '8ff046658942b04',\n",
       " '8ff046658942b05',\n",
       " '8ff046658942b06',\n",
       " '8ff046658942b08',\n",
       " '8ff046658942b09',\n",
       " '8ff046658942b0a',\n",
       " '8ff046658942b0b',\n",
       " '8ff046658942b0c',\n",
       " '8ff046658942b0d',\n",
       " '8ff046658942b0e',\n",
       " '8ff046658942b10',\n",
       " '8ff046658942b11',\n",
       " '8ff046658942b12',\n",
       " '8ff046658942b13',\n",
       " '8ff046658942b14',\n",
       " '8ff046658942b15',\n",
       " '8ff046658942b16',\n",
       " '8ff046658942b18',\n",
       " '8ff046658942b19',\n",
       " '8ff046658942b1a',\n",
       " '8ff046658942b1b',\n",
       " '8ff046658942b1c',\n",
       " '8ff046658942b1d',\n",
       " '8ff046658942b1e',\n",
       " '8ff046658942b20',\n",
       " '8ff046658942b21',\n",
       " '8ff046658942b22',\n",
       " '8ff046658942b23',\n",
       " '8ff046658942b24',\n",
       " '8ff046658942b25',\n",
       " '8ff046658942b26',\n",
       " '8ff046658942b28',\n",
       " '8ff046658942b29',\n",
       " '8ff046658942b2a',\n",
       " '8ff046658942b2b',\n",
       " '8ff046658942b2c',\n",
       " '8ff046658942b2d',\n",
       " '8ff046658942b2e',\n",
       " '8ff046658942b30',\n",
       " '8ff046658942b31',\n",
       " '8ff046658942b32',\n",
       " '8ff046658942b33',\n",
       " '8ff046658942b34',\n",
       " '8ff046658942b35',\n",
       " '8ff046658942b36',\n",
       " '8ff046658942b40',\n",
       " '8ff046658942b42',\n",
       " '8ff046658942b43',\n",
       " '8ff046658942b44',\n",
       " '8ff046658942b45',\n",
       " '8ff046658942b46',\n",
       " '8ff046658942b50',\n",
       " '8ff046658942b51',\n",
       " '8ff046658942b52',\n",
       " '8ff046658942b53',\n",
       " '8ff046658942b54',\n",
       " '8ff046658942b55',\n",
       " '8ff046658942b56',\n",
       " '8ff046658942b58',\n",
       " '8ff046658942b59',\n",
       " '8ff046658942b5a',\n",
       " '8ff046658942b5b',\n",
       " '8ff046658942b5c',\n",
       " '8ff046658942b5d',\n",
       " '8ff046658942b5e',\n",
       " '8ff046658942b60',\n",
       " '8ff046658942b62',\n",
       " '8ff046658942b63',\n",
       " '8ff046658942b64',\n",
       " '8ff046658942b66',\n",
       " '8ff046658942b70',\n",
       " '8ff046658942b71',\n",
       " '8ff046658942b72',\n",
       " '8ff046658942b73',\n",
       " '8ff046658942b74',\n",
       " '8ff046658942b75',\n",
       " '8ff046658942b76',\n",
       " '8ff046658942b89',\n",
       " '8ff046658942b8b',\n",
       " '8ff046658942b8d',\n",
       " '8ff046658942ba8',\n",
       " '8ff046658942ba9',\n",
       " '8ff046658942bab',\n",
       " '8ff046658942bac',\n",
       " '8ff046658942bad',\n",
       " '8ff046658946240',\n",
       " '8ff046658946241',\n",
       " '8ff046658946242',\n",
       " '8ff046658946243',\n",
       " '8ff046658946244',\n",
       " '8ff046658946245',\n",
       " '8ff046658946246',\n",
       " '8ff046658946248',\n",
       " '8ff046658946249',\n",
       " '8ff04665894624a',\n",
       " '8ff04665894624b',\n",
       " '8ff04665894624c',\n",
       " '8ff04665894624d',\n",
       " '8ff04665894624e',\n",
       " '8ff046658946251',\n",
       " '8ff046658946255',\n",
       " '8ff046658946258',\n",
       " '8ff046658946259',\n",
       " '8ff04665894625a',\n",
       " '8ff04665894625b',\n",
       " '8ff04665894625c',\n",
       " '8ff04665894625d',\n",
       " '8ff04665894625e',\n",
       " '8ff046658946260',\n",
       " '8ff046658946262',\n",
       " '8ff046658946263',\n",
       " '8ff046658946264',\n",
       " '8ff046658946266',\n",
       " '8ff04665894626a',\n",
       " '8ff04665894626e',\n",
       " '8ff046658946270',\n",
       " '8ff046658946271',\n",
       " '8ff046658946273',\n",
       " '8ff046658946274',\n",
       " '8ff046658946275',\n",
       " '8ff0466589462e9',\n",
       " '8ff0466589462ed',\n",
       " '8ff046658946342',\n",
       " '8ff046658946346',\n",
       " '8ff046658946358',\n",
       " '8ff046658946359',\n",
       " '8ff04665894635a',\n",
       " '8ff04665894635b',\n",
       " '8ff04665894635c',\n",
       " '8ff04665894635d',\n",
       " '8ff04665894635e'}"
      ]
     },
     "execution_count": 107,
     "metadata": {},
     "output_type": "execute_result"
    }
   ],
   "source": [
    "h3.polyfill(dict(geom), 15)"
   ]
  },
  {
   "cell_type": "code",
   "execution_count": 116,
   "id": "3471d47a-3fb0-4de8-847f-9d98e27230c7",
   "metadata": {},
   "outputs": [],
   "source": [
    "src.close()"
   ]
  },
  {
   "cell_type": "markdown",
   "id": "fd4d5eac-f7b1-4f44-9c5d-286ca3faab63",
   "metadata": {},
   "source": [
    "# Research Object Creation\n",
    "\n",
    "Attributes we care about\n",
    "\n",
    "- Authorship\n",
    "- Timestamps\n",
    "- File(s)\n",
    "  - Name\n",
    "  - Format\n",
    "- Upstream dependencies\n",
    "- Workflow/processes"
   ]
  },
  {
   "cell_type": "markdown",
   "id": "877851ff-1f49-4ab5-b784-d235aacb5c62",
   "metadata": {},
   "source": [
    "Dataset Descriptions\n",
    "\n",
    "Use attributes and entities as needed\n",
    "\n",
    "- Attributes\n",
    "    - name\n",
    "    - publisher {\"@id\": \"#local_id\"} or {\"@id\": \"url\"}\n",
    "    - creater {\"@id\": \"#person\"}\n",
    "    - license\n",
    "    - datePublished\n",
    "    - keywords (ex. \"streets, aggregated features, map\")\n",
    "    - mainEntity Output Dataset \n",
    "- Data Entities\n",
    "    - File\n",
    "        - source (File(s))\n",
    "        - description\n",
    "        - contentSize (MB, KB, or B)\n",
    "        - encodingFormat (from PRONOM: https://www.nationalarchives.gov.uk/PRONOM)\n",
    "        - sha256\n",
    "    - Dataset\n",
    "        - source (File(s))\n",
    "        - description\n",
    "        - contentSize (MB, KB, or B)\n",
    "        - encodingFormat (from PRONOM: https://www.nationalarchives.gov.uk/PRONOM)\n",
    "    - ComputationalWorkflow\n",
    "        - @type (pre-defined with built-in models) [\"File\", \"SoftwareSourceCode\", \"ComputationalWorkflow\"]\n",
    "        - source (File)\n",
    "        - author\n",
    "        - programmingLanguage\n",
    "        - input [{\"@id\": \"#id1\"}, {\"@id\": \"#id2\"}]\n",
    "        - output [{\"@id\": \"#id3\"}]\n",
    "- Contextual Entities\n",
    "    - Publisher\n",
    "        - @type Organization\n",
    "        - name\n",
    "        - url\n",
    "    - Person\n",
    "        - name\n",
    "    - programmingLanguage\n",
    "        - @type [\"ComputerLanguage\", \"SoftwareApplication\"]\n",
    "        - name\n",
    "        - version\n",
    "        - url\n",
    "    - encodingFormat\n",
    "        - @id PRONOM url\n",
    "        - @type Website\n",
    "        - name\n",
    "    - input\n",
    "        - @type FormalParameter\n",
    "        - name\n",
    "        - defaultValue {\"@id\": \"#ReferenceToUpstreamDataset\"}\n",
    "        - encodingFormat\n",
    "        - valueRequired True\n",
    "    - output\n",
    "        - @type FormalParameter\n",
    "        - name\n",
    "        - defaultValue {\"@id\": \"#ReferenceToDownstreamDataset\"}\n",
    "        - encodingFormat\n",
    "        - valueRequired True"
   ]
  },
  {
   "cell_type": "code",
   "execution_count": 192,
   "id": "db86929e-39cc-4fe4-af29-bfcea006fca5",
   "metadata": {},
   "outputs": [],
   "source": [
    "from rocrate.rocrate import ROCrate\n",
    "from rocrate.model import (\n",
    "    Person,\n",
    "    File,\n",
    "    Dataset,\n",
    "    ComputationalWorkflow,\n",
    "    ContextEntity,\n",
    ")"
   ]
  },
  {
   "cell_type": "markdown",
   "id": "fa8eea84-f98b-438e-bc11-95bd8428c9fd",
   "metadata": {},
   "source": [
    "Dataset\n",
    "    source=source,\n",
    "    dest_path=dest_path,\n",
    "    fetch_remote=fetch_remote,\n",
    "    validate_url=validate_url,\n",
    "    properties=properties\n",
    "\n",
    "properties?\n",
    "\n"
   ]
  },
  {
   "cell_type": "code",
   "execution_count": 197,
   "id": "64b89e67-d642-432c-9f3d-881d06e1a701",
   "metadata": {},
   "outputs": [],
   "source": [
    "from pip._internal.operations import freeze"
   ]
  },
  {
   "cell_type": "code",
   "execution_count": 199,
   "id": "681b09bd-8f87-4181-90bf-948066915d8b",
   "metadata": {},
   "outputs": [
    {
     "data": {
      "text/plain": [
       "['polars==0.20.15']"
      ]
     },
     "execution_count": 199,
     "metadata": {},
     "output_type": "execute_result"
    }
   ],
   "source": [
    "pkgs = list(freeze.freeze())\n",
    "[pkg for pkg in pkgs if \"polars\" in pkg]"
   ]
  },
  {
   "cell_type": "code",
   "execution_count": 200,
   "id": "50c086bd-cd53-4b4d-82c2-c4f30de33d38",
   "metadata": {},
   "outputs": [],
   "source": [
    "e = ContextEntity(\n",
    "    crate,\n",
    "    identifier=\"polars\",\n",
    "    properties={\n",
    "        \"@type\": [\"ComputerLanguage\", \"SoftwareApplication\"],\n",
    "        \"name\": \"Polars 0.20.15\",\n",
    "        \"version\": \"0.20.15\",\n",
    "        \"url\": \"https://pypi.org/project/polars/0.20.15/\",\n",
    "    },\n",
    ")"
   ]
  },
  {
   "cell_type": "code",
   "execution_count": 191,
   "id": "8264fa31-f15b-4d27-94dc-af29cbf71944",
   "metadata": {},
   "outputs": [],
   "source": [
    "w = ComputationalWorkflow(\n",
    "    crate,\n",
    "    source=\"tmp/polars_transformation.json\",\n",
    "    properties={\n",
    "        \"author\": {\"@id\": \"#AA\"},\n",
    "        \"programmingLanguage\": {\"@id\": \"#polars\"},\n",
    "    }\n",
    ")"
   ]
  },
  {
   "cell_type": "code",
   "execution_count": 179,
   "id": "6439bf1e-8cfd-4da8-bae5-de0d09b9efa4",
   "metadata": {},
   "outputs": [],
   "source": [
    "d = Dataset(\n",
    "    crate,\n",
    "    source=\"../data/extract/OpenDataPhillyCompleteStreets.geojson\",\n",
    "    properties={\n",
    "        \"description\": \"Data of centerlines of philly streets lines\",\n",
    "        \"contentSize\": \"120\",\n",
    "        \"encodingFormat\": [\"application/geo+json\", {\"@id\": \"https://www.nationalarchives.gov.uk/PRONOM/fmt/1367\"}],\n",
    "    }\n",
    ")"
   ]
  },
  {
   "cell_type": "code",
   "execution_count": 203,
   "id": "38dccc37-548e-4e04-b686-36a54b35f44d",
   "metadata": {},
   "outputs": [],
   "source": [
    "f1 = File(\n",
    "    crate,\n",
    "    source=\"../data/extract/tl_2023_42_tabblock20/tl_2023_42_tabblock20.shp\",\n",
    "    properties={\n",
    "        \"description\": \"Shapefile for TIGER 20 Blocks in Philadelphia County, Pennsylvania\",\n",
    "        \"contentSize\": \"352MB\",\n",
    "        \"encodingFormat\": \"some URL\",\n",
    "        \"sha256\": \"Will Format Later\",\n",
    "    }\n",
    ")"
   ]
  },
  {
   "cell_type": "code",
   "execution_count": 204,
   "id": "1666558b-b000-4037-9996-ed625623faee",
   "metadata": {},
   "outputs": [],
   "source": [
    "d = Dataset(\n",
    "    crate,    \n",
    "    source=\"../data/extract/tl_2023_42_tabblock20\",\n",
    "    properties={\n",
    "        \"description\": \"Shapes and names of census blocks\",\n",
    "        \"hasParts\": [\n",
    "            {\"@id\": \"#tl_2023_42_tabblock20.shp\"},\n",
    "        ]\n",
    "    }\n",
    ")"
   ]
  },
  {
   "cell_type": "code",
   "execution_count": 183,
   "id": "dbe9bcca-fe2b-4be1-b97d-ec4a0686e4db",
   "metadata": {},
   "outputs": [],
   "source": [
    "new_crate = crate.add(\n",
    "    d\n",
    ")"
   ]
  },
  {
   "cell_type": "code",
   "execution_count": 184,
   "id": "1ab9252b-0e89-41b2-b9ae-ea3dada49f3f",
   "metadata": {},
   "outputs": [
    {
     "data": {
      "text/plain": [
       "<OpenDataPhillyCompleteStreets.geojson/ Dataset>"
      ]
     },
     "execution_count": 184,
     "metadata": {},
     "output_type": "execute_result"
    }
   ],
   "source": [
    "new_crate"
   ]
  },
  {
   "cell_type": "code",
   "execution_count": 180,
   "id": "ce0a0b7d-bd88-4acf-9f79-a3bf9fdb9521",
   "metadata": {},
   "outputs": [
    {
     "data": {
      "text/plain": [
       "{'@id': 'OpenDataPhillyCompleteStreets.geojson/',\n",
       " '@type': 'Dataset',\n",
       " 'description': 'Data of centerlines of philly streets lines',\n",
       " 'contentSize': '120',\n",
       " 'encodingFormat': ['application/geo+json',\n",
       "  {'@id': 'https://www.nationalarchives.gov.uk/PRONOM/fmt/1367'}]}"
      ]
     },
     "execution_count": 180,
     "metadata": {},
     "output_type": "execute_result"
    }
   ],
   "source": [
    "d.properties()"
   ]
  },
  {
   "cell_type": "code",
   "execution_count": 181,
   "id": "2ec9f6a3-d521-436b-bb44-f2a0a7847a12",
   "metadata": {},
   "outputs": [
    {
     "data": {
      "text/plain": [
       "[]"
      ]
     },
     "execution_count": 181,
     "metadata": {},
     "output_type": "execute_result"
    }
   ],
   "source": [
    "crate.data_entities"
   ]
  },
  {
   "cell_type": "markdown",
   "id": "7f014b0d-ae4d-44bd-804e-51d4fb9e424d",
   "metadata": {},
   "source": [
    "Crate properties:\n",
    "\n",
    "- name\n",
    "- datePublished\n",
    "- creator\n",
    "- license\n",
    "- description\n",
    "- keywords\n",
    "- publisher\n",
    "- isBasedOn\n",
    "- mainEntity\n",
    "\n",
    "Crate functions:\n",
    "\n",
    "- add_file\n",
    "- add_dataset\n",
    "- add"
   ]
  },
  {
   "cell_type": "code",
   "execution_count": null,
   "id": "d1c449de-47b0-4da1-9924-519b6c7cd221",
   "metadata": {},
   "outputs": [],
   "source": []
  },
  {
   "cell_type": "code",
   "execution_count": 148,
   "id": "6d2399bd-59ef-42e4-b1f7-5c87884cf27f",
   "metadata": {},
   "outputs": [],
   "source": [
    "import datetime as dt"
   ]
  },
  {
   "cell_type": "code",
   "execution_count": 122,
   "id": "77879038-9900-4839-9663-20b0beaf830d",
   "metadata": {},
   "outputs": [],
   "source": [
    "crate = ROCrate()"
   ]
  },
  {
   "cell_type": "code",
   "execution_count": 164,
   "id": "aaae4533-8618-4a4d-8a9a-6fbc4c3f1627",
   "metadata": {},
   "outputs": [],
   "source": [
    "# Time\n",
    "timestamp = dt.datetime.now()"
   ]
  },
  {
   "cell_type": "code",
   "execution_count": 165,
   "id": "5f1bcbd3-bbf5-4080-9dda-b63b74846fbf",
   "metadata": {},
   "outputs": [],
   "source": [
    "crate.datePublished = timestamp"
   ]
  },
  {
   "cell_type": "code",
   "execution_count": 166,
   "id": "2e278961-7ead-4f92-966b-635db09872db",
   "metadata": {},
   "outputs": [
    {
     "data": {
      "text/plain": [
       "datetime.datetime(2024, 3, 17, 14, 33, 44, 898337)"
      ]
     },
     "execution_count": 166,
     "metadata": {},
     "output_type": "execute_result"
    }
   ],
   "source": [
    "crate.datePublished"
   ]
  },
  {
   "cell_type": "code",
   "execution_count": null,
   "id": "47a9a831-0174-4aa6-aeed-ca9d229ef27f",
   "metadata": {},
   "outputs": [],
   "source": []
  },
  {
   "cell_type": "code",
   "execution_count": 167,
   "id": "0bf125cc-a6d1-4fc2-a042-9929a881aea8",
   "metadata": {},
   "outputs": [
    {
     "data": {
      "text/plain": [
       "[<#389ed440-7216-4a11-9af0-d077fe42abdd Person>, <#AA Person>]"
      ]
     },
     "execution_count": 167,
     "metadata": {},
     "output_type": "execute_result"
    }
   ],
   "source": [
    "crate.contextual_entities"
   ]
  },
  {
   "cell_type": "code",
   "execution_count": 168,
   "id": "e905e998-c60d-4c0f-9e72-56567f3f6b1e",
   "metadata": {},
   "outputs": [
    {
     "data": {
      "text/plain": [
       "[]"
      ]
     },
     "execution_count": 168,
     "metadata": {},
     "output_type": "execute_result"
    }
   ],
   "source": [
    "crate.data_entities"
   ]
  },
  {
   "cell_type": "code",
   "execution_count": 153,
   "id": "cc5cd04d-1369-4541-99f6-715b4c318316",
   "metadata": {},
   "outputs": [
    {
     "data": {
      "text/plain": [
       "'2024-03-17T14:30:28.083229'"
      ]
     },
     "execution_count": 153,
     "metadata": {},
     "output_type": "execute_result"
    }
   ],
   "source": [
    "dt.datetime.now().isoformat()"
   ]
  },
  {
   "cell_type": "code",
   "execution_count": 131,
   "id": "1c40a984-ba36-4981-8fa3-092460e1292d",
   "metadata": {},
   "outputs": [],
   "source": [
    "alice_info = {\n",
    "    \"id\": \"AA\",\n",
    "    \"name\": \"Alice Doe\",\n",
    "}"
   ]
  },
  {
   "cell_type": "code",
   "execution_count": 132,
   "id": "b570653d-fc8f-4bd2-963e-6cd49c0db7f0",
   "metadata": {},
   "outputs": [],
   "source": [
    "alice = crate.add(\n",
    "    Person(\n",
    "        crate,\n",
    "        alice_info[\"id\"],\n",
    "        properties={\"name\": alice_info[\"name\"]},\n",
    "    )\n",
    ")"
   ]
  },
  {
   "cell_type": "code",
   "execution_count": 126,
   "id": "3145abcb-8a84-4e7c-8169-7550938f75c1",
   "metadata": {},
   "outputs": [],
   "source": [
    "crate.write(\"../metastore/test_crate/\")"
   ]
  },
  {
   "cell_type": "code",
   "execution_count": 142,
   "id": "bb5f1341-50c3-4ae7-b15b-7ba8d2103cda",
   "metadata": {},
   "outputs": [
    {
     "name": "stdout",
     "output_type": "stream",
     "text": [
      "./ Dataset\n",
      "ro-crate-metadata.json CreativeWork\n",
      "#389ed440-7216-4a11-9af0-d077fe42abdd Person\n",
      "#AA Person\n"
     ]
    }
   ],
   "source": [
    "for e in crate.get_entities():\n",
    "    print(e.id, e.type)"
   ]
  },
  {
   "cell_type": "code",
   "execution_count": 143,
   "id": "9d69d192-68bc-4c48-9305-b7e284248919",
   "metadata": {},
   "outputs": [
    {
     "data": {
      "text/plain": [
       "[]"
      ]
     },
     "execution_count": 143,
     "metadata": {},
     "output_type": "execute_result"
    }
   ],
   "source": [
    "crate.get_by_type(alice)"
   ]
  },
  {
   "cell_type": "code",
   "execution_count": 144,
   "id": "bccded4c-0a12-4b61-822c-bee027f33183",
   "metadata": {},
   "outputs": [
    {
     "data": {
      "text/plain": [
       "<#AA Person>"
      ]
     },
     "execution_count": 144,
     "metadata": {},
     "output_type": "execute_result"
    }
   ],
   "source": [
    "alice"
   ]
  },
  {
   "cell_type": "code",
   "execution_count": null,
   "id": "af03f604-c6ee-4989-b7c2-b6d02d23826e",
   "metadata": {},
   "outputs": [],
   "source": []
  }
 ],
 "metadata": {
  "kernelspec": {
   "display_name": "Python 3 (ipykernel)",
   "language": "python",
   "name": "python3"
  },
  "language_info": {
   "codemirror_mode": {
    "name": "ipython",
    "version": 3
   },
   "file_extension": ".py",
   "mimetype": "text/x-python",
   "name": "python",
   "nbconvert_exporter": "python",
   "pygments_lexer": "ipython3",
   "version": "3.12.2"
  }
 },
 "nbformat": 4,
 "nbformat_minor": 5
}
